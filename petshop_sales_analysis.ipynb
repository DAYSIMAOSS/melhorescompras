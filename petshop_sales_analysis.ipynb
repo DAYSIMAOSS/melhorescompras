{
  "cells": [
    {
      "cell_type": "markdown",
      "metadata": {
        "id": "view-in-github",
        "colab_type": "text"
      },
      "source": [
        "<a href=\"https://colab.research.google.com/github/DAYSIMAOSS/melhorescompras/blob/main/petshop_sales_analysis.ipynb\" target=\"_parent\"><img src=\"https://colab.research.google.com/assets/colab-badge.svg\" alt=\"Open In Colab\"/></a>"
      ]
    },
    {
      "cell_type": "code",
      "execution_count": null,
      "id": "7e6f0110",
      "metadata": {
        "id": "7e6f0110"
      },
      "outputs": [],
      "source": [
        "#Importando as bibliotecas\n",
        "import pandas as pd\n",
        "import os\n",
        "import numpy\n",
        "import matplotlib.pyplot as plt\n",
        "import seaborn as sns\n",
        "from scipy.stats import ttest_1samp"
      ]
    },
    {
      "cell_type": "code",
      "execution_count": null,
      "id": "58ca7d15",
      "metadata": {
        "id": "58ca7d15",
        "outputId": "3dae50e0-7174-44d1-a7ae-f983cdd0e705"
      },
      "outputs": [
        {
          "name": "stdout",
          "output_type": "stream",
          "text": [
            "Requirement already satisfied: tabulate in ./opt/anaconda3/lib/python3.9/site-packages (0.9.0)\n",
            "Note: you may need to restart the kernel to use updated packages.\n"
          ]
        }
      ],
      "source": [
        "pip install --upgrade tabulate\n"
      ]
    },
    {
      "cell_type": "code",
      "execution_count": null,
      "id": "6d9cd91a",
      "metadata": {
        "id": "6d9cd91a"
      },
      "outputs": [],
      "source": [
        "import pandas as pd\n",
        "\n",
        "# Lista de caminhos dos arquivos CSV\n",
        "caminhos_arquivos = [\n",
        "    '/Users/day/Desktop/Trabalho_grupo/vendas_linha_petshop_2019.csv',\n",
        "    '/Users/day/Desktop/Trabalho_grupo/vendas_linha_petshop_2020.csv',\n",
        "    '/Users/day/Desktop/Trabalho_grupo/vendas_linha_petshop_2021.csv',\n",
        "    '/Users/day/Desktop/Trabalho_grupo/vendas_linha_petshop_2022.csv'\n",
        "]"
      ]
    },
    {
      "cell_type": "code",
      "execution_count": null,
      "id": "afc04270",
      "metadata": {
        "id": "afc04270"
      },
      "outputs": [],
      "source": [
        "# Ler os arquivos CSV e armazenar em uma lista de DataFrames usando delimitador ';' e codificação 'ISO-8859-1'\n",
        "dfs = []\n",
        "for caminho in caminhos_arquivos:\n",
        "    df = pd.read_csv(caminho, delimiter=';', encoding='ISO-8859-1')\n",
        "    dfs.append(df)\n",
        "\n",
        "# Combinar todos os DataFrames em um único DataFrame\n",
        "data = pd.concat(dfs, ignore_index=True)\n",
        "\n"
      ]
    },
    {
      "cell_type": "code",
      "execution_count": null,
      "id": "106c2154",
      "metadata": {
        "id": "106c2154",
        "outputId": "0f7d4d4f-8633-44fe-ce28-a2a7ecda9ff9"
      },
      "outputs": [
        {
          "data": {
            "text/html": [
              "<div>\n",
              "<style scoped>\n",
              "    .dataframe tbody tr th:only-of-type {\n",
              "        vertical-align: middle;\n",
              "    }\n",
              "\n",
              "    .dataframe tbody tr th {\n",
              "        vertical-align: top;\n",
              "    }\n",
              "\n",
              "    .dataframe thead th {\n",
              "        text-align: right;\n",
              "    }\n",
              "</style>\n",
              "<table border=\"1\" class=\"dataframe\">\n",
              "  <thead>\n",
              "    <tr style=\"text-align: right;\">\n",
              "      <th></th>\n",
              "      <th>cod_pedido</th>\n",
              "      <th>regiao_pais</th>\n",
              "      <th>produto</th>\n",
              "      <th>valor</th>\n",
              "      <th>quantidade</th>\n",
              "      <th>valor_total_bruto</th>\n",
              "      <th>data</th>\n",
              "      <th>estado</th>\n",
              "      <th>formapagto</th>\n",
              "      <th>centro_distribuicao</th>\n",
              "      <th>responsavelpedido</th>\n",
              "      <th>valor_comissao</th>\n",
              "      <th>lucro_liquido</th>\n",
              "      <th>categoriaprod</th>\n",
              "    </tr>\n",
              "  </thead>\n",
              "  <tbody>\n",
              "    <tr>\n",
              "      <th>0</th>\n",
              "      <td>1</td>\n",
              "      <td>Norte</td>\n",
              "      <td>Biscoito  True Champion 300g</td>\n",
              "      <td>22</td>\n",
              "      <td>2.0</td>\n",
              "      <td>44</td>\n",
              "      <td>13/06/2019</td>\n",
              "      <td>Acre</td>\n",
              "      <td>Dinheiro</td>\n",
              "      <td>Rapid Pink</td>\n",
              "      <td>Carlos</td>\n",
              "      <td>0,44</td>\n",
              "      <td>17,6</td>\n",
              "      <td>Alimentação</td>\n",
              "    </tr>\n",
              "    <tr>\n",
              "      <th>1</th>\n",
              "      <td>2</td>\n",
              "      <td>Norte</td>\n",
              "      <td>Biscoito  True Champion 300g</td>\n",
              "      <td>21</td>\n",
              "      <td>2.0</td>\n",
              "      <td>42</td>\n",
              "      <td>03/01/2019</td>\n",
              "      <td>Amapá</td>\n",
              "      <td>Pix</td>\n",
              "      <td>Rapid Pink</td>\n",
              "      <td>Maria Linda</td>\n",
              "      <td>0,42</td>\n",
              "      <td>16,8</td>\n",
              "      <td>Alimentação</td>\n",
              "    </tr>\n",
              "    <tr>\n",
              "      <th>2</th>\n",
              "      <td>3</td>\n",
              "      <td>Norte</td>\n",
              "      <td>Biscoito  True Champion 300g</td>\n",
              "      <td>22</td>\n",
              "      <td>NaN</td>\n",
              "      <td>44</td>\n",
              "      <td>18/01/2019</td>\n",
              "      <td>Pará</td>\n",
              "      <td>Boleto Bancário</td>\n",
              "      <td>Rapid Pink</td>\n",
              "      <td>Julia</td>\n",
              "      <td>0,88</td>\n",
              "      <td>35,2</td>\n",
              "      <td>Alimentação</td>\n",
              "    </tr>\n",
              "    <tr>\n",
              "      <th>3</th>\n",
              "      <td>4</td>\n",
              "      <td>Norte</td>\n",
              "      <td>Biscoito  True Champion 300g</td>\n",
              "      <td>19</td>\n",
              "      <td>4.0</td>\n",
              "      <td>88</td>\n",
              "      <td>19/08/2019</td>\n",
              "      <td>Rondônia</td>\n",
              "      <td>Boleto Bancário</td>\n",
              "      <td>Rapid Pink</td>\n",
              "      <td>Yuri</td>\n",
              "      <td>0,76</td>\n",
              "      <td>30,4</td>\n",
              "      <td>Alimentação</td>\n",
              "    </tr>\n",
              "    <tr>\n",
              "      <th>4</th>\n",
              "      <td>5</td>\n",
              "      <td>Norte</td>\n",
              "      <td>Biscoito  True Champion 300g</td>\n",
              "      <td>22</td>\n",
              "      <td>2.0</td>\n",
              "      <td>44</td>\n",
              "      <td>18/10/2019</td>\n",
              "      <td>Tocantins</td>\n",
              "      <td>Cartão Crédito</td>\n",
              "      <td>Rapid Pink</td>\n",
              "      <td>Dolores</td>\n",
              "      <td>0,44</td>\n",
              "      <td>17,6</td>\n",
              "      <td>Alimentação</td>\n",
              "    </tr>\n",
              "    <tr>\n",
              "      <th>...</th>\n",
              "      <td>...</td>\n",
              "      <td>...</td>\n",
              "      <td>...</td>\n",
              "      <td>...</td>\n",
              "      <td>...</td>\n",
              "      <td>...</td>\n",
              "      <td>...</td>\n",
              "      <td>...</td>\n",
              "      <td>...</td>\n",
              "      <td>...</td>\n",
              "      <td>...</td>\n",
              "      <td>...</td>\n",
              "      <td>...</td>\n",
              "      <td>...</td>\n",
              "    </tr>\n",
              "    <tr>\n",
              "      <th>200781</th>\n",
              "      <td>200976</td>\n",
              "      <td>Sudeste</td>\n",
              "      <td>Bandana Disney Mickey Fábrica Petti</td>\n",
              "      <td>19,44</td>\n",
              "      <td>3.0</td>\n",
              "      <td>58,32</td>\n",
              "      <td>07/02/2022</td>\n",
              "      <td>Rio de Janeiro</td>\n",
              "      <td>Cartão Débito</td>\n",
              "      <td>Papa Léguas</td>\n",
              "      <td>Antonio</td>\n",
              "      <td>0,42</td>\n",
              "      <td>14,7</td>\n",
              "      <td>Acessório</td>\n",
              "    </tr>\n",
              "    <tr>\n",
              "      <th>200782</th>\n",
              "      <td>200977</td>\n",
              "      <td>Sudeste</td>\n",
              "      <td>Bandana Disney Mickey Fábrica Petti</td>\n",
              "      <td>21,06</td>\n",
              "      <td>1.0</td>\n",
              "      <td>21,06</td>\n",
              "      <td>06/02/2022</td>\n",
              "      <td>Espírito Santo</td>\n",
              "      <td>Cartão Débito</td>\n",
              "      <td>Papa Léguas</td>\n",
              "      <td>Tereza</td>\n",
              "      <td>0,26</td>\n",
              "      <td>9,1</td>\n",
              "      <td>Acessório</td>\n",
              "    </tr>\n",
              "    <tr>\n",
              "      <th>200783</th>\n",
              "      <td>200978</td>\n",
              "      <td>Sul</td>\n",
              "      <td>Bandana Disney Mickey Fábrica Petti</td>\n",
              "      <td>14,58</td>\n",
              "      <td>3.0</td>\n",
              "      <td>43,74</td>\n",
              "      <td>25/01/2022</td>\n",
              "      <td>Paraná</td>\n",
              "      <td>Cartão Crédito</td>\n",
              "      <td>Tree True</td>\n",
              "      <td>Beatriz</td>\n",
              "      <td>0,48</td>\n",
              "      <td>16,8</td>\n",
              "      <td>Acessório</td>\n",
              "    </tr>\n",
              "    <tr>\n",
              "      <th>200784</th>\n",
              "      <td>200979</td>\n",
              "      <td>Sul</td>\n",
              "      <td>Bandana Disney Mickey Fábrica Petti</td>\n",
              "      <td>16,2</td>\n",
              "      <td>2.0</td>\n",
              "      <td>32,4</td>\n",
              "      <td>27/03/2022</td>\n",
              "      <td>Santa  Catarina</td>\n",
              "      <td>Pix</td>\n",
              "      <td>Tree True</td>\n",
              "      <td>Vitória</td>\n",
              "      <td>0,52</td>\n",
              "      <td>18,2</td>\n",
              "      <td>Acessório</td>\n",
              "    </tr>\n",
              "    <tr>\n",
              "      <th>200785</th>\n",
              "      <td>200980</td>\n",
              "      <td>Sul</td>\n",
              "      <td>Bandana Disney Mickey Fábrica Petti</td>\n",
              "      <td>14,58</td>\n",
              "      <td>1.0</td>\n",
              "      <td>14,58</td>\n",
              "      <td>02/04/2022</td>\n",
              "      <td>Rio Grande do Sul</td>\n",
              "      <td>Cartão Débito</td>\n",
              "      <td>Tree True</td>\n",
              "      <td>Vivian</td>\n",
              "      <td>0,2</td>\n",
              "      <td>7</td>\n",
              "      <td>Acessório</td>\n",
              "    </tr>\n",
              "  </tbody>\n",
              "</table>\n",
              "<p>200786 rows × 14 columns</p>\n",
              "</div>"
            ],
            "text/plain": [
              "        cod_pedido regiao_pais                               produto  valor  \\\n",
              "0                1       Norte          Biscoito  True Champion 300g     22   \n",
              "1                2       Norte          Biscoito  True Champion 300g     21   \n",
              "2                3       Norte          Biscoito  True Champion 300g     22   \n",
              "3                4       Norte          Biscoito  True Champion 300g     19   \n",
              "4                5       Norte          Biscoito  True Champion 300g     22   \n",
              "...            ...         ...                                   ...    ...   \n",
              "200781      200976     Sudeste  Bandana Disney Mickey Fábrica Petti   19,44   \n",
              "200782      200977     Sudeste  Bandana Disney Mickey Fábrica Petti   21,06   \n",
              "200783      200978         Sul  Bandana Disney Mickey Fábrica Petti   14,58   \n",
              "200784      200979         Sul  Bandana Disney Mickey Fábrica Petti    16,2   \n",
              "200785      200980         Sul  Bandana Disney Mickey Fábrica Petti   14,58   \n",
              "\n",
              "       quantidade valor_total_bruto        data             estado  \\\n",
              "0             2.0                44  13/06/2019               Acre   \n",
              "1             2.0                42  03/01/2019              Amapá   \n",
              "2             NaN                44  18/01/2019               Pará   \n",
              "3             4.0                88  19/08/2019           Rondônia   \n",
              "4             2.0                44  18/10/2019          Tocantins   \n",
              "...           ...               ...         ...                ...   \n",
              "200781        3.0             58,32  07/02/2022     Rio de Janeiro   \n",
              "200782        1.0             21,06  06/02/2022     Espírito Santo   \n",
              "200783        3.0             43,74  25/01/2022             Paraná   \n",
              "200784        2.0              32,4  27/03/2022    Santa  Catarina   \n",
              "200785        1.0             14,58  02/04/2022  Rio Grande do Sul   \n",
              "\n",
              "             formapagto centro_distribuicao responsavelpedido valor_comissao  \\\n",
              "0              Dinheiro          Rapid Pink            Carlos           0,44   \n",
              "1                   Pix          Rapid Pink       Maria Linda           0,42   \n",
              "2       Boleto Bancário          Rapid Pink             Julia           0,88   \n",
              "3       Boleto Bancário          Rapid Pink              Yuri           0,76   \n",
              "4        Cartão Crédito          Rapid Pink           Dolores           0,44   \n",
              "...                 ...                 ...               ...            ...   \n",
              "200781    Cartão Débito         Papa Léguas           Antonio           0,42   \n",
              "200782    Cartão Débito         Papa Léguas            Tereza           0,26   \n",
              "200783   Cartão Crédito           Tree True           Beatriz           0,48   \n",
              "200784              Pix           Tree True           Vitória           0,52   \n",
              "200785    Cartão Débito           Tree True            Vivian            0,2   \n",
              "\n",
              "       lucro_liquido categoriaprod  \n",
              "0               17,6   Alimentação  \n",
              "1               16,8   Alimentação  \n",
              "2               35,2   Alimentação  \n",
              "3               30,4   Alimentação  \n",
              "4               17,6   Alimentação  \n",
              "...              ...           ...  \n",
              "200781          14,7     Acessório  \n",
              "200782           9,1     Acessório  \n",
              "200783          16,8     Acessório  \n",
              "200784          18,2     Acessório  \n",
              "200785             7     Acessório  \n",
              "\n",
              "[200786 rows x 14 columns]"
            ]
          },
          "execution_count": 20,
          "metadata": {},
          "output_type": "execute_result"
        }
      ],
      "source": [
        "data"
      ]
    },
    {
      "cell_type": "code",
      "execution_count": null,
      "id": "fe0c6840",
      "metadata": {
        "id": "fe0c6840",
        "outputId": "e1a04852-813f-4acc-94e1-8b95caa69f8c"
      },
      "outputs": [
        {
          "data": {
            "text/plain": [
              "(200786, 14)"
            ]
          },
          "execution_count": 27,
          "metadata": {},
          "output_type": "execute_result"
        }
      ],
      "source": [
        "#Total de linhas e colunas.\n",
        "data.shape\n"
      ]
    },
    {
      "cell_type": "code",
      "execution_count": null,
      "id": "78747947",
      "metadata": {
        "id": "78747947",
        "outputId": "a8323469-9243-40d1-f01c-a26a3156f703"
      },
      "outputs": [
        {
          "name": "stdout",
          "output_type": "stream",
          "text": [
            "Número de colunas no DataFrame: 14\n",
            "Nomes das colunas:\n",
            "Index(['cod_pedido', 'regiao_pais', 'produto', 'valor', 'quantidade',\n",
            "       'valor_total_bruto', 'data', 'estado', 'formapagto',\n",
            "       'centro_distribuicao', 'responsavelpedido', 'valor_comissao',\n",
            "       'lucro_liquido', 'categoriaprod'],\n",
            "      dtype='object')\n"
          ]
        }
      ],
      "source": [
        "# Exibir o número de colunas e os nomes das colunas no DataFrame\n",
        "num_colunas = data.shape[1]\n",
        "nomes_colunas = data.columns\n",
        "\n",
        "print(f\"Número de colunas no DataFrame: {num_colunas}\")\n",
        "print(\"Nomes das colunas:\")\n",
        "print(nomes_colunas)"
      ]
    },
    {
      "cell_type": "code",
      "execution_count": null,
      "id": "95c93c85",
      "metadata": {
        "id": "95c93c85",
        "outputId": "6f58225e-52cc-49c1-afe7-565b0e6414b1"
      },
      "outputs": [
        {
          "name": "stdout",
          "output_type": "stream",
          "text": [
            "Tipos de dados das colunas:\n",
            "cod_pedido              int64\n",
            "regiao_pais            object\n",
            "produto                object\n",
            "valor                  object\n",
            "quantidade             object\n",
            "valor_total_bruto      object\n",
            "data                   object\n",
            "estado                 object\n",
            "formapagto             object\n",
            "centro_distribuicao    object\n",
            "responsavelpedido      object\n",
            "valor_comissao         object\n",
            "lucro_liquido          object\n",
            "categoriaprod          object\n",
            "dtype: object\n"
          ]
        }
      ],
      "source": [
        "# Verificar os tipos de dados das colunas\n",
        "\n",
        "print(\"Tipos de dados das colunas:\")\n",
        "print(data.dtypes)\n"
      ]
    },
    {
      "cell_type": "code",
      "execution_count": null,
      "id": "90bc3bf7",
      "metadata": {
        "id": "90bc3bf7",
        "outputId": "03f09597-eb86-4c39-ef02-94cca61bed43"
      },
      "outputs": [
        {
          "name": "stdout",
          "output_type": "stream",
          "text": [
            "cod_pedido              object\n",
            "regiao_pais             object\n",
            "produto                 object\n",
            "valor                   object\n",
            "quantidade             float64\n",
            "valor_total_bruto       object\n",
            "data                    object\n",
            "estado                  object\n",
            "formapagto              object\n",
            "centro_distribuicao     object\n",
            "responsavelpedido       object\n",
            "valor_comissao          object\n",
            "lucro_liquido           object\n",
            "categoriaprod           object\n",
            "dtype: object\n"
          ]
        }
      ],
      "source": [
        "# Converter a coluna 'cod_pedido' de int64 para object\n",
        "df['cod_pedido'] = df['cod_pedido'].astype('object')\n",
        "\n",
        "print(df.dtypes)"
      ]
    },
    {
      "cell_type": "code",
      "execution_count": null,
      "id": "d308c695",
      "metadata": {
        "id": "d308c695",
        "outputId": "44b093a1-b66e-42eb-8a65-906a461e6ef9"
      },
      "outputs": [
        {
          "name": "stdout",
          "output_type": "stream",
          "text": [
            "\n",
            "Após a conversão:\n",
            " cod_pedido                     object\n",
            "regiao_pais                    object\n",
            "produto                        object\n",
            "valor                         float64\n",
            "quantidade                    float64\n",
            "valor_total_bruto             float64\n",
            "data                   datetime64[ns]\n",
            "estado                         object\n",
            "formapagto                     object\n",
            "centro_distribuicao            object\n",
            "responsavelpedido              object\n",
            "valor_comissao                float64\n",
            "lucro_liquido                 float64\n",
            "categoriaprod                  object\n",
            "dtype: object\n"
          ]
        }
      ],
      "source": [
        "# Converter as colunas especificadas para tipos numéricos\n",
        "cols_to_convert = ['valor', 'valor_total_bruto', 'valor_comissao', 'lucro_liquido']\n",
        "df[cols_to_convert] = df[cols_to_convert].apply(pd.to_numeric, errors='coerce')\n",
        "\n",
        "print(\"\\nApós a conversão:\\n\", df.dtypes)"
      ]
    },
    {
      "cell_type": "code",
      "execution_count": null,
      "id": "f74d902d",
      "metadata": {
        "id": "f74d902d",
        "outputId": "a632a539-66d8-4251-ea68-1cb8bf5691f8"
      },
      "outputs": [
        {
          "name": "stdout",
          "output_type": "stream",
          "text": [
            "\n",
            "Após a conversão:\n",
            " cod_pedido                     object\n",
            "regiao_pais                    object\n",
            "produto                        object\n",
            "valor                         float64\n",
            "quantidade                    float64\n",
            "valor_total_bruto             float64\n",
            "data                   datetime64[ns]\n",
            "estado                         object\n",
            "formapagto                     object\n",
            "centro_distribuicao            object\n",
            "responsavelpedido              object\n",
            "valor_comissao                float64\n",
            "lucro_liquido                 float64\n",
            "categoriaprod                  object\n",
            "dtype: object\n"
          ]
        }
      ],
      "source": [
        "# Converter a coluna 'data' de object para datetime\n",
        "df['data'] = pd.to_datetime(df['data'], errors='coerce')\n",
        "\n",
        "print(\"\\nApós a conversão:\\n\", df.dtypes)\n"
      ]
    },
    {
      "cell_type": "code",
      "execution_count": null,
      "id": "1f899a1f",
      "metadata": {
        "id": "1f899a1f",
        "outputId": "14888383-02f4-496a-d8f7-c0c25f3dd592"
      },
      "outputs": [
        {
          "name": "stdout",
          "output_type": "stream",
          "text": [
            "Percentual de NaN em cada coluna em relação ao total de NaN:\n"
          ]
        },
        {
          "data": {
            "text/html": [
              "<div>\n",
              "<style scoped>\n",
              "    .dataframe tbody tr th:only-of-type {\n",
              "        vertical-align: middle;\n",
              "    }\n",
              "\n",
              "    .dataframe tbody tr th {\n",
              "        vertical-align: top;\n",
              "    }\n",
              "\n",
              "    .dataframe thead th {\n",
              "        text-align: right;\n",
              "    }\n",
              "</style>\n",
              "<table border=\"1\" class=\"dataframe\">\n",
              "  <thead>\n",
              "    <tr style=\"text-align: right;\">\n",
              "      <th></th>\n",
              "      <th>Coluna</th>\n",
              "      <th>Contagem_NaN</th>\n",
              "      <th>Percentual_NaN</th>\n",
              "    </tr>\n",
              "  </thead>\n",
              "  <tbody>\n",
              "    <tr>\n",
              "      <th>0</th>\n",
              "      <td>cod_pedido</td>\n",
              "      <td>0</td>\n",
              "      <td>0.000000</td>\n",
              "    </tr>\n",
              "    <tr>\n",
              "      <th>1</th>\n",
              "      <td>regiao_pais</td>\n",
              "      <td>0</td>\n",
              "      <td>0.000000</td>\n",
              "    </tr>\n",
              "    <tr>\n",
              "      <th>2</th>\n",
              "      <td>produto</td>\n",
              "      <td>0</td>\n",
              "      <td>0.000000</td>\n",
              "    </tr>\n",
              "    <tr>\n",
              "      <th>3</th>\n",
              "      <td>valor</td>\n",
              "      <td>50079</td>\n",
              "      <td>22.933305</td>\n",
              "    </tr>\n",
              "    <tr>\n",
              "      <th>4</th>\n",
              "      <td>quantidade</td>\n",
              "      <td>188</td>\n",
              "      <td>0.086093</td>\n",
              "    </tr>\n",
              "    <tr>\n",
              "      <th>5</th>\n",
              "      <td>valor_total_bruto</td>\n",
              "      <td>49728</td>\n",
              "      <td>22.772567</td>\n",
              "    </tr>\n",
              "    <tr>\n",
              "      <th>6</th>\n",
              "      <td>data</td>\n",
              "      <td>27352</td>\n",
              "      <td>12.525645</td>\n",
              "    </tr>\n",
              "    <tr>\n",
              "      <th>7</th>\n",
              "      <td>estado</td>\n",
              "      <td>0</td>\n",
              "      <td>0.000000</td>\n",
              "    </tr>\n",
              "    <tr>\n",
              "      <th>8</th>\n",
              "      <td>formapagto</td>\n",
              "      <td>0</td>\n",
              "      <td>0.000000</td>\n",
              "    </tr>\n",
              "    <tr>\n",
              "      <th>9</th>\n",
              "      <td>centro_distribuicao</td>\n",
              "      <td>0</td>\n",
              "      <td>0.000000</td>\n",
              "    </tr>\n",
              "    <tr>\n",
              "      <th>10</th>\n",
              "      <td>responsavelpedido</td>\n",
              "      <td>0</td>\n",
              "      <td>0.000000</td>\n",
              "    </tr>\n",
              "    <tr>\n",
              "      <th>11</th>\n",
              "      <td>valor_comissao</td>\n",
              "      <td>49876</td>\n",
              "      <td>22.840343</td>\n",
              "    </tr>\n",
              "    <tr>\n",
              "      <th>12</th>\n",
              "      <td>lucro_liquido</td>\n",
              "      <td>41145</td>\n",
              "      <td>18.842046</td>\n",
              "    </tr>\n",
              "    <tr>\n",
              "      <th>13</th>\n",
              "      <td>categoriaprod</td>\n",
              "      <td>0</td>\n",
              "      <td>0.000000</td>\n",
              "    </tr>\n",
              "  </tbody>\n",
              "</table>\n",
              "</div>"
            ],
            "text/plain": [
              "                 Coluna  Contagem_NaN  Percentual_NaN\n",
              "0            cod_pedido             0        0.000000\n",
              "1           regiao_pais             0        0.000000\n",
              "2               produto             0        0.000000\n",
              "3                 valor         50079       22.933305\n",
              "4            quantidade           188        0.086093\n",
              "5     valor_total_bruto         49728       22.772567\n",
              "6                  data         27352       12.525645\n",
              "7                estado             0        0.000000\n",
              "8            formapagto             0        0.000000\n",
              "9   centro_distribuicao             0        0.000000\n",
              "10    responsavelpedido             0        0.000000\n",
              "11       valor_comissao         49876       22.840343\n",
              "12        lucro_liquido         41145       18.842046\n",
              "13        categoriaprod             0        0.000000"
            ]
          },
          "metadata": {},
          "output_type": "display_data"
        }
      ],
      "source": [
        "# Calcular o percentual de NaNs para cada coluna em relação ao total\n",
        "df_nan['Percentual_NaN'] = (df_nan['Contagem_NaN'] / total_nan) * 100\n",
        "\n",
        "print(\"Percentual de NaN em cada coluna em relação ao total de NaN:\")\n",
        "\n",
        "# Usar display() se estiver em um Jupyter Notebook\n",
        "from IPython.display import display\n",
        "display(df_nan)"
      ]
    },
    {
      "cell_type": "code",
      "execution_count": null,
      "id": "0558c543",
      "metadata": {
        "id": "0558c543"
      },
      "outputs": [],
      "source": [
        "# Contagem de NaN em cada coluna conforme fornecido\n",
        "nan_por_coluna = {\n",
        "    'cod_pedido': 0,\n",
        "    'regiao_pais': 0,\n",
        "    'produto': 0,\n",
        "    'valor': 50079,\n",
        "    'quantidade': 188,\n",
        "    'valor_total_bruto': 49728,\n",
        "    'data': 27352,\n",
        "    'estado': 0,\n",
        "    'formapagto': 0,\n",
        "    'centro_distribuicao': 0,\n",
        "    'responsavelpedido': 0,\n",
        "    'valor_comissao': 49876,\n",
        "    'lucro_liquido': 41145,\n",
        "    'categoriaprod': 0\n",
        "}\n",
        "\n"
      ]
    },
    {
      "cell_type": "code",
      "execution_count": null,
      "id": "09ad5e39",
      "metadata": {
        "id": "09ad5e39"
      },
      "outputs": [],
      "source": [
        "# Converter para um DataFrame\n",
        "df_nan = pd.DataFrame(list(nan_por_coluna.items()), columns=['Coluna', 'Contagem_NaN'])\n"
      ]
    },
    {
      "cell_type": "code",
      "execution_count": null,
      "id": "04f3222a",
      "metadata": {
        "id": "04f3222a",
        "outputId": "f233f28a-f1c7-4591-8a3e-d59e1e279424"
      },
      "outputs": [
        {
          "name": "stdout",
          "output_type": "stream",
          "text": [
            "Total de NaNs: 218368\n"
          ]
        }
      ],
      "source": [
        "# Calcular o total de NaNs no DataFrame\n",
        "total_nan = df_nan['Contagem_NaN'].sum()\n",
        "print(f\"Total de NaNs: {total_nan}\")\n"
      ]
    },
    {
      "cell_type": "code",
      "execution_count": null,
      "id": "1dc54bd2",
      "metadata": {
        "id": "1dc54bd2",
        "outputId": "b946a737-ffa0-4889-f80c-c034f03a54ad"
      },
      "outputs": [
        {
          "name": "stdout",
          "output_type": "stream",
          "text": [
            "Outliers encontrados:\n",
            " 2756     1377.0\n",
            "5764     1296.0\n",
            "6951     1296.0\n",
            "8756     1296.0\n",
            "9358     1296.0\n",
            "12972    1296.0\n",
            "17158    1296.0\n",
            "19558    1377.0\n",
            "20757    1296.0\n",
            "20772    1296.0\n",
            "21355    1377.0\n",
            "21954    1377.0\n",
            "22561    1296.0\n",
            "23162    1377.0\n",
            "27958    1377.0\n",
            "29769    1296.0\n",
            "31573    1377.0\n",
            "32164    1377.0\n",
            "33961    1377.0\n",
            "35150    1296.0\n",
            "39352    1377.0\n",
            "39368    1296.0\n",
            "40570    1377.0\n",
            "41174    1377.0\n",
            "44156    1296.0\n",
            "44159    1377.0\n",
            "45956    1377.0\n",
            "47765    1296.0\n",
            "48354    1377.0\n",
            "50157    1296.0\n",
            "Name: valor, dtype: float64\n"
          ]
        }
      ],
      "source": [
        "#Cálculo dos Outliers da coluna 'valor'\n",
        "Q1 = df['valor'].quantile(0.25)\n",
        "Q3 = df['valor'].quantile(0.75)\n",
        "IQR = Q3 - Q1\n",
        "limite_inferior = Q1 - 1.5 * IQR\n",
        "limite_superior = Q3 + 1.5 * IQR\n",
        "outliers = df['valor'][(df['valor'] < limite_inferior) | (df['valor'] > limite_superior)]\n",
        "\n",
        "print(\"Outliers encontrados:\\n\", outliers)\n",
        "\n"
      ]
    },
    {
      "cell_type": "code",
      "execution_count": null,
      "id": "f1d57369",
      "metadata": {
        "id": "f1d57369",
        "outputId": "8183d83d-c177-4dde-c6dc-ca92613318b0"
      },
      "outputs": [
        {
          "name": "stdout",
          "output_type": "stream",
          "text": [
            "Moda da coluna 'valor': 81.0\n"
          ]
        }
      ],
      "source": [
        "# Calcular a moda da coluna 'valor'\n",
        "moda_valor = df['valor'].mode()\n",
        "print(\"Moda da coluna 'valor':\", moda_valor[0])"
      ]
    },
    {
      "cell_type": "code",
      "execution_count": null,
      "id": "2ccb9b14",
      "metadata": {
        "id": "2ccb9b14",
        "outputId": "bb3eb854-d905-4c37-d8da-8004928ee56f"
      },
      "outputs": [
        {
          "name": "stdout",
          "output_type": "stream",
          "text": [
            "Mediana da coluna 'valor': 162.0\n"
          ]
        }
      ],
      "source": [
        "# Calcular a mediana da coluna 'valor'\n",
        "mediana_valor = df['valor'].median()\n",
        "print(\"Mediana da coluna 'valor':\", mediana_valor)"
      ]
    },
    {
      "cell_type": "code",
      "execution_count": null,
      "id": "ec683cc2",
      "metadata": {
        "id": "ec683cc2",
        "outputId": "f385c0cc-1718-4ddf-cebd-5b4e1d46fa1c"
      },
      "outputs": [
        {
          "name": "stdout",
          "output_type": "stream",
          "text": [
            "Média da coluna 'valor': 233.66355140186917\n"
          ]
        }
      ],
      "source": [
        "# Calcular a média da coluna 'valor'\n",
        "media_valor = df['valor'].mean()\n",
        "# Exibir a média\n",
        "print(\"Média da coluna 'valor':\", media_valor)"
      ]
    },
    {
      "cell_type": "code",
      "execution_count": null,
      "id": "22c9fcc3",
      "metadata": {
        "id": "22c9fcc3",
        "outputId": "c1b0e7f2-d73f-4afc-cb39-baf1bbcdd7d0"
      },
      "outputs": [
        {
          "name": "stdout",
          "output_type": "stream",
          "text": [
            "DataFrame após substituir NaN pela mediana:\n",
            "       cod_pedido regiao_pais                               produto  valor  \\\n",
            "0         150581       Norte          Biscoito  True Champion 300g  162.0   \n",
            "1         150582       Norte          Biscoito  True Champion 300g  162.0   \n",
            "2         150583       Norte          Biscoito  True Champion 300g  162.0   \n",
            "3         150584       Norte          Biscoito  True Champion 300g  162.0   \n",
            "4         150585       Norte          Biscoito  True Champion 300g  162.0   \n",
            "...          ...         ...                                   ...    ...   \n",
            "50395     200976     Sudeste  Bandana Disney Mickey Fábrica Petti   162.0   \n",
            "50396     200977     Sudeste  Bandana Disney Mickey Fábrica Petti   162.0   \n",
            "50397     200978         Sul  Bandana Disney Mickey Fábrica Petti   162.0   \n",
            "50398     200979         Sul  Bandana Disney Mickey Fábrica Petti   162.0   \n",
            "50399     200980         Sul  Bandana Disney Mickey Fábrica Petti   162.0   \n",
            "\n",
            "       quantidade  valor_total_bruto       data             estado  \\\n",
            "0            22.0                NaN 2022-01-03               Acre   \n",
            "1             2.0                NaN        NaT              Amapá   \n",
            "2             4.0                NaN        NaT               Pará   \n",
            "3             4.0                NaN        NaT           Rondônia   \n",
            "4             2.0                NaN        NaT          Tocantins   \n",
            "...           ...                ...        ...                ...   \n",
            "50395         3.0                NaN 2022-07-02     Rio de Janeiro   \n",
            "50396         1.0                NaN 2022-06-02     Espírito Santo   \n",
            "50397         3.0                NaN        NaT             Paraná   \n",
            "50398         2.0                NaN        NaT    Santa  Catarina   \n",
            "50399         1.0                NaN 2022-02-04  Rio Grande do Sul   \n",
            "\n",
            "            formapagto centro_distribuicao responsavelpedido  valor_comissao  \\\n",
            "0                  Pix          Rapid Pink            Carlos             NaN   \n",
            "1      Boleto Bancário          Rapid Pink       Maria Linda             NaN   \n",
            "2      Boleto Bancário          Rapid Pink             Julia             NaN   \n",
            "3             Dinheiro          Rapid Pink              Yuri             NaN   \n",
            "4             Dinheiro          Rapid Pink           Dolores             NaN   \n",
            "...                ...                 ...               ...             ...   \n",
            "50395    Cartão Débito         Papa Léguas           Antonio             NaN   \n",
            "50396    Cartão Débito         Papa Léguas            Tereza             NaN   \n",
            "50397   Cartão Crédito           Tree True           Beatriz             NaN   \n",
            "50398              Pix           Tree True           Vitória             NaN   \n",
            "50399    Cartão Débito           Tree True            Vivian             NaN   \n",
            "\n",
            "       lucro_liquido categoriaprod  \n",
            "0                NaN   Alimentação  \n",
            "1                NaN   Alimentação  \n",
            "2                NaN   Alimentação  \n",
            "3                NaN   Alimentação  \n",
            "4                NaN   Alimentação  \n",
            "...              ...           ...  \n",
            "50395            NaN     Acessório  \n",
            "50396            NaN     Acessório  \n",
            "50397            NaN     Acessório  \n",
            "50398            NaN     Acessório  \n",
            "50399            7.0     Acessório  \n",
            "\n",
            "[50400 rows x 14 columns]\n"
          ]
        }
      ],
      "source": [
        "# Substituir NaN pela mediana da coluna 'valor'\n",
        "df['valor'] = df['valor'].fillna(mediana_valor)\n",
        "print(\"DataFrame após substituir NaN pela mediana:\\n\", df)"
      ]
    },
    {
      "cell_type": "code",
      "execution_count": null,
      "id": "74443146",
      "metadata": {
        "id": "74443146",
        "outputId": "4a7e3e89-5f4d-4f77-ecf9-54815bddcca1"
      },
      "outputs": [
        {
          "name": "stdout",
          "output_type": "stream",
          "text": [
            "Contagem de NaN em cada coluna:\n",
            " cod_pedido                 0\n",
            "regiao_pais                0\n",
            "produto                    0\n",
            "valor                      0\n",
            "quantidade               188\n",
            "valor_total_bruto      49728\n",
            "data                   27352\n",
            "estado                     0\n",
            "formapagto                 0\n",
            "centro_distribuicao        0\n",
            "responsavelpedido          0\n",
            "valor_comissao         49876\n",
            "lucro_liquido          41145\n",
            "categoriaprod              0\n",
            "dtype: int64\n"
          ]
        }
      ],
      "source": [
        "# Contar quantos NaN/NaT há em cada coluna\n",
        "na_counts = df.isna().sum()\n",
        "print(\"Contagem de NaN em cada coluna:\\n\", na_counts)"
      ]
    },
    {
      "cell_type": "code",
      "execution_count": null,
      "id": "69a789ef",
      "metadata": {
        "id": "69a789ef",
        "outputId": "caa1e04d-e1ae-4ff6-fd52-e822e8ed0ed7"
      },
      "outputs": [
        {
          "name": "stdout",
          "output_type": "stream",
          "text": [
            "Outliers encontrados na coluna 'quantidade':\n",
            " 0        22.0\n",
            "2         4.0\n",
            "3         4.0\n",
            "5         4.0\n",
            "9         4.0\n",
            "         ... \n",
            "50125    44.0\n",
            "50185    45.0\n",
            "50193    42.0\n",
            "50219    43.0\n",
            "50244    42.0\n",
            "Name: quantidade, Length: 2569, dtype: float64\n"
          ]
        }
      ],
      "source": [
        "# Cálculo do outliers da coluna 'quantidade'\n",
        "Q1 = df['quantidade'].quantile(0.25)\n",
        "Q3 = df['quantidade'].quantile(0.75)\n",
        "IQR = Q3 - Q1\n",
        "limite_inferior = Q1 - 1.5 * IQR\n",
        "limite_superior = Q3 + 1.5 * IQR\n",
        "\n",
        "outliers = df['quantidade'][(df['quantidade'] < limite_inferior) | (df['quantidade'] > limite_superior)]\n",
        "\n",
        "print(\"Outliers encontrados na coluna 'quantidade':\\n\", outliers)\n"
      ]
    },
    {
      "cell_type": "code",
      "execution_count": null,
      "id": "9a7e62e0",
      "metadata": {
        "id": "9a7e62e0",
        "outputId": "9161890c-c29f-462d-871d-5d4ae1a0bd29"
      },
      "outputs": [
        {
          "name": "stdout",
          "output_type": "stream",
          "text": [
            "Moda da coluna 'quantidade': 1.0\n"
          ]
        }
      ],
      "source": [
        "# Calcular a moda da coluna 'quantidade'\n",
        "moda_quantidade = df['quantidade'].mode()\n",
        "print(\"Moda da coluna 'quantidade':\", moda_quantidade[0])"
      ]
    },
    {
      "cell_type": "code",
      "execution_count": null,
      "id": "2599d596",
      "metadata": {
        "id": "2599d596",
        "outputId": "84d38173-900e-44b5-fa06-00060548a41c"
      },
      "outputs": [
        {
          "name": "stdout",
          "output_type": "stream",
          "text": [
            "Mediana da coluna 'quantidade': 1.0\n"
          ]
        }
      ],
      "source": [
        "# Calcular a mediana da coluna 'quantidade'\n",
        "mediana_quantidade = df['quantidade'].median()\n",
        "print(\"Mediana da coluna 'quantidade':\", mediana_quantidade)"
      ]
    },
    {
      "cell_type": "code",
      "execution_count": null,
      "id": "e524bcb3",
      "metadata": {
        "id": "e524bcb3",
        "outputId": "e604781a-f014-4e3f-b62d-70338ea0c0c3"
      },
      "outputs": [
        {
          "name": "stdout",
          "output_type": "stream",
          "text": [
            "Média da coluna 'quantidade': 2.577591014100215\n"
          ]
        }
      ],
      "source": [
        "# Calcular a média da coluna 'quantidade'\n",
        "media_quantidade = df['quantidade'].mean()\n",
        "print(\"Média da coluna 'quantidade':\", media_quantidade)"
      ]
    },
    {
      "cell_type": "code",
      "execution_count": null,
      "id": "448a254b",
      "metadata": {
        "id": "448a254b",
        "outputId": "a0fb0379-8365-4414-a495-1a36ba951da1"
      },
      "outputs": [
        {
          "name": "stdout",
          "output_type": "stream",
          "text": [
            "DataFrame após substituir NaN pela mediana:\n",
            "       cod_pedido regiao_pais                               produto  valor  \\\n",
            "0         150581       Norte          Biscoito  True Champion 300g  162.0   \n",
            "1         150582       Norte          Biscoito  True Champion 300g  162.0   \n",
            "2         150583       Norte          Biscoito  True Champion 300g  162.0   \n",
            "3         150584       Norte          Biscoito  True Champion 300g  162.0   \n",
            "4         150585       Norte          Biscoito  True Champion 300g  162.0   \n",
            "...          ...         ...                                   ...    ...   \n",
            "50395     200976     Sudeste  Bandana Disney Mickey Fábrica Petti   162.0   \n",
            "50396     200977     Sudeste  Bandana Disney Mickey Fábrica Petti   162.0   \n",
            "50397     200978         Sul  Bandana Disney Mickey Fábrica Petti   162.0   \n",
            "50398     200979         Sul  Bandana Disney Mickey Fábrica Petti   162.0   \n",
            "50399     200980         Sul  Bandana Disney Mickey Fábrica Petti   162.0   \n",
            "\n",
            "       quantidade  valor_total_bruto       data             estado  \\\n",
            "0            22.0                NaN 2022-01-03               Acre   \n",
            "1             2.0                NaN        NaT              Amapá   \n",
            "2             4.0                NaN        NaT               Pará   \n",
            "3             4.0                NaN        NaT           Rondônia   \n",
            "4             2.0                NaN        NaT          Tocantins   \n",
            "...           ...                ...        ...                ...   \n",
            "50395         3.0                NaN 2022-07-02     Rio de Janeiro   \n",
            "50396         1.0                NaN 2022-06-02     Espírito Santo   \n",
            "50397         3.0                NaN        NaT             Paraná   \n",
            "50398         2.0                NaN        NaT    Santa  Catarina   \n",
            "50399         1.0                NaN 2022-02-04  Rio Grande do Sul   \n",
            "\n",
            "            formapagto centro_distribuicao responsavelpedido  valor_comissao  \\\n",
            "0                  Pix          Rapid Pink            Carlos             NaN   \n",
            "1      Boleto Bancário          Rapid Pink       Maria Linda             NaN   \n",
            "2      Boleto Bancário          Rapid Pink             Julia             NaN   \n",
            "3             Dinheiro          Rapid Pink              Yuri             NaN   \n",
            "4             Dinheiro          Rapid Pink           Dolores             NaN   \n",
            "...                ...                 ...               ...             ...   \n",
            "50395    Cartão Débito         Papa Léguas           Antonio             NaN   \n",
            "50396    Cartão Débito         Papa Léguas            Tereza             NaN   \n",
            "50397   Cartão Crédito           Tree True           Beatriz             NaN   \n",
            "50398              Pix           Tree True           Vitória             NaN   \n",
            "50399    Cartão Débito           Tree True            Vivian             NaN   \n",
            "\n",
            "       lucro_liquido categoriaprod  \n",
            "0                NaN   Alimentação  \n",
            "1                NaN   Alimentação  \n",
            "2                NaN   Alimentação  \n",
            "3                NaN   Alimentação  \n",
            "4                NaN   Alimentação  \n",
            "...              ...           ...  \n",
            "50395            NaN     Acessório  \n",
            "50396            NaN     Acessório  \n",
            "50397            NaN     Acessório  \n",
            "50398            NaN     Acessório  \n",
            "50399            7.0     Acessório  \n",
            "\n",
            "[50400 rows x 14 columns]\n"
          ]
        }
      ],
      "source": [
        "# Substituir NaN pela mediana da coluna 'quantidade'\n",
        "df['quantidade'] = df['quantidade'].fillna(mediana_quantidade)\n",
        "print(\"DataFrame após substituir NaN pela mediana:\\n\", df)"
      ]
    },
    {
      "cell_type": "code",
      "execution_count": null,
      "id": "a7a0128d",
      "metadata": {
        "id": "a7a0128d",
        "outputId": "a7ce4f59-8009-4033-dca9-559ff2c1f92f"
      },
      "outputs": [
        {
          "name": "stdout",
          "output_type": "stream",
          "text": [
            "Contagem de NaN em cada coluna:\n",
            " cod_pedido                 0\n",
            "regiao_pais                0\n",
            "produto                    0\n",
            "valor                      0\n",
            "quantidade                 0\n",
            "valor_total_bruto      49728\n",
            "data                   27352\n",
            "estado                     0\n",
            "formapagto                 0\n",
            "centro_distribuicao        0\n",
            "responsavelpedido          0\n",
            "valor_comissao         49876\n",
            "lucro_liquido          41145\n",
            "categoriaprod              0\n",
            "dtype: int64\n"
          ]
        }
      ],
      "source": [
        "# Contar quantos NaN/NaT há em cada coluna\n",
        "na_counts = df.isna().sum()\n",
        "print(\"Contagem de NaN em cada coluna:\\n\", na_counts)"
      ]
    },
    {
      "cell_type": "code",
      "execution_count": null,
      "id": "d28c2cc1",
      "metadata": {
        "id": "d28c2cc1",
        "outputId": "c90ed1f4-b248-4d32-bfd5-9334e97d04ed"
      },
      "outputs": [
        {
          "name": "stdout",
          "output_type": "stream",
          "text": [
            "Outliers encontrados na coluna 'valor_total_bruto':\n",
            " 8        2534234.0\n",
            "381         2345.0\n",
            "443        52345.0\n",
            "567         3241.0\n",
            "650         5363.0\n",
            "           ...    \n",
            "45956       1377.0\n",
            "47765       1296.0\n",
            "48354       1377.0\n",
            "50058       1782.0\n",
            "50157       1296.0\n",
            "Name: valor_total_bruto, Length: 99, dtype: float64\n"
          ]
        }
      ],
      "source": [
        "# Cálculo do outliers da coluna 'valor_total_bruto'\n",
        "\n",
        "Q1 = df['valor_total_bruto'].quantile(0.25)\n",
        "Q3 = df['valor_total_bruto'].quantile(0.75)\n",
        "IQR = Q3 - Q1\n",
        "limite_inferior = Q1 - 1.5 * IQR\n",
        "limite_superior = Q3 + 1.5 * IQR\n",
        "\n",
        "outliers = df['valor_total_bruto'][(df['valor_total_bruto'] < limite_inferior) | (df['valor_total_bruto'] > limite_superior)]\n",
        "\n",
        "print(\"Outliers encontrados na coluna 'valor_total_bruto':\\n\", outliers)"
      ]
    },
    {
      "cell_type": "code",
      "execution_count": null,
      "id": "c8df688a",
      "metadata": {
        "id": "c8df688a",
        "outputId": "d9936aa1-8f5e-4cd6-ae37-90b60ba35faa"
      },
      "outputs": [
        {
          "name": "stdout",
          "output_type": "stream",
          "text": [
            "Moda da coluna 'valor_total_bruto': 81.0\n"
          ]
        }
      ],
      "source": [
        "# Calcular a moda da coluna 'valor_total_bruto'\n",
        "moda_valor_total_bruto = df['valor_total_bruto'].mode()\n",
        "print(\"Moda da coluna 'valor_total_bruto':\", moda_valor_total_bruto[0])"
      ]
    },
    {
      "cell_type": "code",
      "execution_count": null,
      "id": "ad7377ee",
      "metadata": {
        "id": "ad7377ee",
        "outputId": "6e26abef-1853-4266-e60c-892980b746a8"
      },
      "outputs": [
        {
          "name": "stdout",
          "output_type": "stream",
          "text": [
            "Média da coluna 'valor_total_bruto': 10023.744047619048\n"
          ]
        }
      ],
      "source": [
        "# Calcular a média da coluna 'valor_total_bruto'\n",
        "media_valor_total_bruto = df['valor_total_bruto'].mean()\n",
        "print(\"Média da coluna 'valor_total_bruto':\", media_valor_total_bruto)\n"
      ]
    },
    {
      "cell_type": "code",
      "execution_count": null,
      "id": "e4d3eca9",
      "metadata": {
        "id": "e4d3eca9",
        "outputId": "a15f0757-ebfb-4c7c-880c-baee240c8eb0"
      },
      "outputs": [
        {
          "name": "stdout",
          "output_type": "stream",
          "text": [
            "Mediana da coluna 'valor_total_bruto': 81.0\n"
          ]
        }
      ],
      "source": [
        "# Calcular a mediana da coluna 'valor_total_bruto'\n",
        "mediana_valor_total_bruto = df['valor_total_bruto'].median()\n",
        "print(\"Mediana da coluna 'valor_total_bruto':\", mediana_valor_total_bruto)"
      ]
    },
    {
      "cell_type": "code",
      "execution_count": null,
      "id": "594b7ae6",
      "metadata": {
        "id": "594b7ae6",
        "outputId": "fff1df6c-cb04-4f9f-acde-e843d41b124d"
      },
      "outputs": [
        {
          "name": "stdout",
          "output_type": "stream",
          "text": [
            "DataFrame após substituir NaN pela mediana:\n",
            "       cod_pedido regiao_pais                               produto  valor  \\\n",
            "0         150581       Norte          Biscoito  True Champion 300g  162.0   \n",
            "1         150582       Norte          Biscoito  True Champion 300g  162.0   \n",
            "2         150583       Norte          Biscoito  True Champion 300g  162.0   \n",
            "3         150584       Norte          Biscoito  True Champion 300g  162.0   \n",
            "4         150585       Norte          Biscoito  True Champion 300g  162.0   \n",
            "...          ...         ...                                   ...    ...   \n",
            "50395     200976     Sudeste  Bandana Disney Mickey Fábrica Petti   162.0   \n",
            "50396     200977     Sudeste  Bandana Disney Mickey Fábrica Petti   162.0   \n",
            "50397     200978         Sul  Bandana Disney Mickey Fábrica Petti   162.0   \n",
            "50398     200979         Sul  Bandana Disney Mickey Fábrica Petti   162.0   \n",
            "50399     200980         Sul  Bandana Disney Mickey Fábrica Petti   162.0   \n",
            "\n",
            "       quantidade  valor_total_bruto       data             estado  \\\n",
            "0            22.0               81.0 2022-01-03               Acre   \n",
            "1             2.0               81.0        NaT              Amapá   \n",
            "2             4.0               81.0        NaT               Pará   \n",
            "3             4.0               81.0        NaT           Rondônia   \n",
            "4             2.0               81.0        NaT          Tocantins   \n",
            "...           ...                ...        ...                ...   \n",
            "50395         3.0               81.0 2022-07-02     Rio de Janeiro   \n",
            "50396         1.0               81.0 2022-06-02     Espírito Santo   \n",
            "50397         3.0               81.0        NaT             Paraná   \n",
            "50398         2.0               81.0        NaT    Santa  Catarina   \n",
            "50399         1.0               81.0 2022-02-04  Rio Grande do Sul   \n",
            "\n",
            "            formapagto centro_distribuicao responsavelpedido  valor_comissao  \\\n",
            "0                  Pix          Rapid Pink            Carlos             NaN   \n",
            "1      Boleto Bancário          Rapid Pink       Maria Linda             NaN   \n",
            "2      Boleto Bancário          Rapid Pink             Julia             NaN   \n",
            "3             Dinheiro          Rapid Pink              Yuri             NaN   \n",
            "4             Dinheiro          Rapid Pink           Dolores             NaN   \n",
            "...                ...                 ...               ...             ...   \n",
            "50395    Cartão Débito         Papa Léguas           Antonio             NaN   \n",
            "50396    Cartão Débito         Papa Léguas            Tereza             NaN   \n",
            "50397   Cartão Crédito           Tree True           Beatriz             NaN   \n",
            "50398              Pix           Tree True           Vitória             NaN   \n",
            "50399    Cartão Débito           Tree True            Vivian             NaN   \n",
            "\n",
            "       lucro_liquido categoriaprod  \n",
            "0                NaN   Alimentação  \n",
            "1                NaN   Alimentação  \n",
            "2                NaN   Alimentação  \n",
            "3                NaN   Alimentação  \n",
            "4                NaN   Alimentação  \n",
            "...              ...           ...  \n",
            "50395            NaN     Acessório  \n",
            "50396            NaN     Acessório  \n",
            "50397            NaN     Acessório  \n",
            "50398            NaN     Acessório  \n",
            "50399            7.0     Acessório  \n",
            "\n",
            "[50400 rows x 14 columns]\n"
          ]
        }
      ],
      "source": [
        "# Substituir NaN pela mediana na coluna 'valor_total_bruto'\n",
        "df['valor_total_bruto'] = df['valor_total_bruto'].fillna(mediana_valor_total_bruto)\n",
        "print(\"DataFrame após substituir NaN pela mediana:\\n\", df)"
      ]
    },
    {
      "cell_type": "code",
      "execution_count": null,
      "id": "cf3f597a",
      "metadata": {
        "id": "cf3f597a",
        "outputId": "fc891805-4bdb-46b3-896f-2ced7b427b9b"
      },
      "outputs": [
        {
          "name": "stdout",
          "output_type": "stream",
          "text": [
            "Contagem de NaN em cada coluna:\n",
            " cod_pedido                 0\n",
            "regiao_pais                0\n",
            "produto                    0\n",
            "valor                      0\n",
            "quantidade                 0\n",
            "valor_total_bruto          0\n",
            "data                   27352\n",
            "estado                     0\n",
            "formapagto                 0\n",
            "centro_distribuicao        0\n",
            "responsavelpedido          0\n",
            "valor_comissao         49876\n",
            "lucro_liquido          41145\n",
            "categoriaprod              0\n",
            "dtype: int64\n"
          ]
        }
      ],
      "source": [
        "# Contar quantos NaN/NaT há em cada coluna\n",
        "na_counts = df.isna().sum()\n",
        "print(\"Contagem de NaN em cada coluna:\\n\", na_counts)"
      ]
    },
    {
      "cell_type": "code",
      "execution_count": null,
      "id": "c7f0f3ee",
      "metadata": {
        "id": "c7f0f3ee",
        "outputId": "b946f479-2ff8-45da-a219-ead4ed767805"
      },
      "outputs": [
        {
          "name": "stdout",
          "output_type": "stream",
          "text": [
            "DataFrame após substituir NaT com backward fill:\n",
            "       cod_pedido regiao_pais                               produto  valor  \\\n",
            "0         150581       Norte          Biscoito  True Champion 300g  162.0   \n",
            "1         150582       Norte          Biscoito  True Champion 300g  162.0   \n",
            "2         150583       Norte          Biscoito  True Champion 300g  162.0   \n",
            "3         150584       Norte          Biscoito  True Champion 300g  162.0   \n",
            "4         150585       Norte          Biscoito  True Champion 300g  162.0   \n",
            "...          ...         ...                                   ...    ...   \n",
            "50395     200976     Sudeste  Bandana Disney Mickey Fábrica Petti   162.0   \n",
            "50396     200977     Sudeste  Bandana Disney Mickey Fábrica Petti   162.0   \n",
            "50397     200978         Sul  Bandana Disney Mickey Fábrica Petti   162.0   \n",
            "50398     200979         Sul  Bandana Disney Mickey Fábrica Petti   162.0   \n",
            "50399     200980         Sul  Bandana Disney Mickey Fábrica Petti   162.0   \n",
            "\n",
            "       quantidade  valor_total_bruto       data             estado  \\\n",
            "0            22.0               81.0 2022-01-03               Acre   \n",
            "1             2.0               81.0 2022-07-01              Amapá   \n",
            "2             4.0               81.0 2022-07-01               Pará   \n",
            "3             4.0               81.0 2022-07-01           Rondônia   \n",
            "4             2.0               81.0 2022-07-01          Tocantins   \n",
            "...           ...                ...        ...                ...   \n",
            "50395         3.0               81.0 2022-07-02     Rio de Janeiro   \n",
            "50396         1.0               81.0 2022-06-02     Espírito Santo   \n",
            "50397         3.0               81.0 2022-02-04             Paraná   \n",
            "50398         2.0               81.0 2022-02-04    Santa  Catarina   \n",
            "50399         1.0               81.0 2022-02-04  Rio Grande do Sul   \n",
            "\n",
            "            formapagto centro_distribuicao responsavelpedido  valor_comissao  \\\n",
            "0                  Pix          Rapid Pink            Carlos             NaN   \n",
            "1      Boleto Bancário          Rapid Pink       Maria Linda             NaN   \n",
            "2      Boleto Bancário          Rapid Pink             Julia             NaN   \n",
            "3             Dinheiro          Rapid Pink              Yuri             NaN   \n",
            "4             Dinheiro          Rapid Pink           Dolores             NaN   \n",
            "...                ...                 ...               ...             ...   \n",
            "50395    Cartão Débito         Papa Léguas           Antonio             NaN   \n",
            "50396    Cartão Débito         Papa Léguas            Tereza             NaN   \n",
            "50397   Cartão Crédito           Tree True           Beatriz             NaN   \n",
            "50398              Pix           Tree True           Vitória             NaN   \n",
            "50399    Cartão Débito           Tree True            Vivian             NaN   \n",
            "\n",
            "       lucro_liquido categoriaprod  \n",
            "0                NaN   Alimentação  \n",
            "1                NaN   Alimentação  \n",
            "2                NaN   Alimentação  \n",
            "3                NaN   Alimentação  \n",
            "4                NaN   Alimentação  \n",
            "...              ...           ...  \n",
            "50395            NaN     Acessório  \n",
            "50396            NaN     Acessório  \n",
            "50397            NaN     Acessório  \n",
            "50398            NaN     Acessório  \n",
            "50399            7.0     Acessório  \n",
            "\n",
            "[50400 rows x 14 columns]\n"
          ]
        }
      ],
      "source": [
        "## Substituir NaT usando backward fill - (Proxímo valor válido)\n",
        "df['data'] = df['data'].bfill()\n",
        "\n",
        "print(\"DataFrame após substituir NaT com backward fill:\\n\", df)\n"
      ]
    },
    {
      "cell_type": "code",
      "execution_count": null,
      "id": "a45d6468",
      "metadata": {
        "id": "a45d6468",
        "outputId": "c929b5f3-05a7-47fb-c62f-3d549260c666"
      },
      "outputs": [
        {
          "name": "stdout",
          "output_type": "stream",
          "text": [
            "Contagem de NaN em cada coluna:\n",
            " cod_pedido                 0\n",
            "regiao_pais                0\n",
            "produto                    0\n",
            "valor                      0\n",
            "quantidade                 0\n",
            "valor_total_bruto          0\n",
            "data                       0\n",
            "estado                     0\n",
            "formapagto                 0\n",
            "centro_distribuicao        0\n",
            "responsavelpedido          0\n",
            "valor_comissao         49876\n",
            "lucro_liquido          41145\n",
            "categoriaprod              0\n",
            "dtype: int64\n"
          ]
        }
      ],
      "source": [
        "# Contar quantos NaN/NaT há em cada coluna\n",
        "na_counts = df.isna().sum()\n",
        "\n",
        "print(\"Contagem de NaN em cada coluna:\\n\", na_counts)"
      ]
    },
    {
      "cell_type": "code",
      "execution_count": null,
      "id": "1eaca175",
      "metadata": {
        "id": "1eaca175",
        "outputId": "bb58f9a7-3d5b-4c0f-9d3a-1e1e969b293a"
      },
      "outputs": [
        {
          "name": "stdout",
          "output_type": "stream",
          "text": [
            "Outliers encontrados na coluna 'valor_comissao':\n",
            " 373      172.0\n",
            "821       22.0\n",
            "973       34.0\n",
            "1560      56.0\n",
            "2615      33.0\n",
            "         ...  \n",
            "48805     22.0\n",
            "48816     22.0\n",
            "49400     33.0\n",
            "49401     33.0\n",
            "49553     56.0\n",
            "Name: valor_comissao, Length: 82, dtype: float64\n"
          ]
        }
      ],
      "source": [
        "#Cálculo de Outliers na coluna 'valor_comissão'\n",
        "Q1 = df['valor_comissao'].quantile(0.25)\n",
        "Q3 = df['valor_comissao'].quantile(0.75)\n",
        "IQR = Q3 - Q1\n",
        "limite_inferior = Q1 - 1.5 * IQR\n",
        "limite_superior = Q3 + 1.5 * IQR\n",
        "\n",
        "outliers = df['valor_comissao'][(df['valor_comissao'] < limite_inferior) | (df['valor_comissao'] > limite_superior)]\n",
        "\n",
        "print(\"Outliers encontrados na coluna 'valor_comissao':\\n\", outliers)"
      ]
    },
    {
      "cell_type": "code",
      "execution_count": null,
      "id": "903f7efd",
      "metadata": {
        "id": "903f7efd",
        "outputId": "a3c593cd-c9bd-4699-8c02-db4511869350"
      },
      "outputs": [
        {
          "name": "stdout",
          "output_type": "stream",
          "text": [
            "Média da coluna 'valor_comissao': 26.064885496183205\n"
          ]
        }
      ],
      "source": [
        "# Calcular a média da coluna 'valor_comissao'\n",
        "media_valor_comissao = df['valor_comissao'].mean()\n",
        "print(\"Média da coluna 'valor_comissao':\", media_valor_comissao)"
      ]
    },
    {
      "cell_type": "code",
      "execution_count": null,
      "id": "13d79947",
      "metadata": {
        "id": "13d79947",
        "outputId": "3e3e8ba0-eea2-46ab-c0b0-96b29396c28d"
      },
      "outputs": [
        {
          "name": "stdout",
          "output_type": "stream",
          "text": [
            "Mediana da coluna 'valor_comissao': 4.0\n"
          ]
        }
      ],
      "source": [
        "# Calcular a mediana da coluna 'valor_comissao'\n",
        "mediana_valor_comissao = df['valor_comissao'].median()\n",
        "print(\"Mediana da coluna 'valor_comissao':\", mediana_valor_comissao)"
      ]
    },
    {
      "cell_type": "code",
      "execution_count": null,
      "id": "40ec49b8",
      "metadata": {
        "id": "40ec49b8",
        "outputId": "5e5c8f5c-219b-404a-fdb7-e9205e86ea3b"
      },
      "outputs": [
        {
          "name": "stdout",
          "output_type": "stream",
          "text": [
            "Moda da coluna 'valor_comissao': 1.0\n"
          ]
        }
      ],
      "source": [
        "# Calcular a moda da coluna 'valor_comissao'\n",
        "moda_valor_comissao = df['valor_comissao'].mode()\n",
        "print(\"Moda da coluna 'valor_comissao':\", moda_valor_comissao[0])"
      ]
    },
    {
      "cell_type": "code",
      "execution_count": null,
      "id": "ee804052",
      "metadata": {
        "id": "ee804052",
        "outputId": "951f61a5-62a8-402f-9de2-da36867fcd7e"
      },
      "outputs": [
        {
          "name": "stdout",
          "output_type": "stream",
          "text": [
            "DataFrame após substituir NaN pela mediana:\n",
            "       cod_pedido regiao_pais                               produto  valor  \\\n",
            "0         150581       Norte          Biscoito  True Champion 300g  162.0   \n",
            "1         150582       Norte          Biscoito  True Champion 300g  162.0   \n",
            "2         150583       Norte          Biscoito  True Champion 300g  162.0   \n",
            "3         150584       Norte          Biscoito  True Champion 300g  162.0   \n",
            "4         150585       Norte          Biscoito  True Champion 300g  162.0   \n",
            "...          ...         ...                                   ...    ...   \n",
            "50395     200976     Sudeste  Bandana Disney Mickey Fábrica Petti   162.0   \n",
            "50396     200977     Sudeste  Bandana Disney Mickey Fábrica Petti   162.0   \n",
            "50397     200978         Sul  Bandana Disney Mickey Fábrica Petti   162.0   \n",
            "50398     200979         Sul  Bandana Disney Mickey Fábrica Petti   162.0   \n",
            "50399     200980         Sul  Bandana Disney Mickey Fábrica Petti   162.0   \n",
            "\n",
            "       quantidade  valor_total_bruto       data             estado  \\\n",
            "0            22.0               81.0 2022-01-03               Acre   \n",
            "1             2.0               81.0 2022-07-01              Amapá   \n",
            "2             4.0               81.0 2022-07-01               Pará   \n",
            "3             4.0               81.0 2022-07-01           Rondônia   \n",
            "4             2.0               81.0 2022-07-01          Tocantins   \n",
            "...           ...                ...        ...                ...   \n",
            "50395         3.0               81.0 2022-07-02     Rio de Janeiro   \n",
            "50396         1.0               81.0 2022-06-02     Espírito Santo   \n",
            "50397         3.0               81.0 2022-02-04             Paraná   \n",
            "50398         2.0               81.0 2022-02-04    Santa  Catarina   \n",
            "50399         1.0               81.0 2022-02-04  Rio Grande do Sul   \n",
            "\n",
            "            formapagto centro_distribuicao responsavelpedido  valor_comissao  \\\n",
            "0                  Pix          Rapid Pink            Carlos             4.0   \n",
            "1      Boleto Bancário          Rapid Pink       Maria Linda             4.0   \n",
            "2      Boleto Bancário          Rapid Pink             Julia             4.0   \n",
            "3             Dinheiro          Rapid Pink              Yuri             4.0   \n",
            "4             Dinheiro          Rapid Pink           Dolores             4.0   \n",
            "...                ...                 ...               ...             ...   \n",
            "50395    Cartão Débito         Papa Léguas           Antonio             4.0   \n",
            "50396    Cartão Débito         Papa Léguas            Tereza             4.0   \n",
            "50397   Cartão Crédito           Tree True           Beatriz             4.0   \n",
            "50398              Pix           Tree True           Vitória             4.0   \n",
            "50399    Cartão Débito           Tree True            Vivian             4.0   \n",
            "\n",
            "       lucro_liquido categoriaprod  \n",
            "0                NaN   Alimentação  \n",
            "1                NaN   Alimentação  \n",
            "2                NaN   Alimentação  \n",
            "3                NaN   Alimentação  \n",
            "4                NaN   Alimentação  \n",
            "...              ...           ...  \n",
            "50395            NaN     Acessório  \n",
            "50396            NaN     Acessório  \n",
            "50397            NaN     Acessório  \n",
            "50398            NaN     Acessório  \n",
            "50399            7.0     Acessório  \n",
            "\n",
            "[50400 rows x 14 columns]\n"
          ]
        }
      ],
      "source": [
        "# Substituir NaN pela mediana na coluna 'valor_comissao'\n",
        "df['valor_comissao'] = df['valor_comissao'].fillna(mediana_valor_comissao)\n",
        "\n",
        "print(\"DataFrame após substituir NaN pela mediana:\\n\", df)"
      ]
    },
    {
      "cell_type": "code",
      "execution_count": null,
      "id": "b573b32d",
      "metadata": {
        "id": "b573b32d",
        "outputId": "a2791082-2edd-429c-bcd6-091c09110424"
      },
      "outputs": [
        {
          "name": "stdout",
          "output_type": "stream",
          "text": [
            "Contagem de NaN em cada coluna:\n",
            " cod_pedido                 0\n",
            "regiao_pais                0\n",
            "produto                    0\n",
            "valor                      0\n",
            "quantidade                 0\n",
            "valor_total_bruto          0\n",
            "data                       0\n",
            "estado                     0\n",
            "formapagto                 0\n",
            "centro_distribuicao        0\n",
            "responsavelpedido          0\n",
            "valor_comissao             0\n",
            "lucro_liquido          41145\n",
            "categoriaprod              0\n",
            "dtype: int64\n"
          ]
        }
      ],
      "source": [
        "# Contar quantos NaN/NaT há em cada coluna\n",
        "na_counts = df.isna().sum()\n",
        "\n",
        "print(\"Contagem de NaN em cada coluna:\\n\", na_counts)"
      ]
    },
    {
      "cell_type": "code",
      "execution_count": null,
      "id": "b49330f6",
      "metadata": {
        "id": "b49330f6",
        "outputId": "f6db151a-76ea-41f3-b955-b4d8925cd285"
      },
      "outputs": [
        {
          "name": "stdout",
          "output_type": "stream",
          "text": [
            "Outliers encontrados na coluna 'lucro_liquido':\n",
            " 11        24.0\n",
            "13        16.0\n",
            "14        16.0\n",
            "33       304.0\n",
            "36        24.0\n",
            "         ...  \n",
            "50314     24.0\n",
            "50317     36.0\n",
            "50321     20.0\n",
            "50357     57.0\n",
            "50368     54.0\n",
            "Name: lucro_liquido, Length: 8386, dtype: float64\n"
          ]
        }
      ],
      "source": [
        "# Identificar os outliers da coluna 'lucro_liquido'\n",
        "outliers = df['lucro_liquido'][(df['lucro_liquido'] < limite_inferior) | (df['lucro_liquido'] > limite_superior)]\n",
        "\n",
        "print(\"Outliers encontrados na coluna 'lucro_liquido':\\n\", outliers)"
      ]
    },
    {
      "cell_type": "code",
      "execution_count": null,
      "id": "6a60ddc5",
      "metadata": {
        "id": "6a60ddc5",
        "outputId": "c10c2fab-30a0-4941-81f2-dd52c326617b"
      },
      "outputs": [
        {
          "name": "stdout",
          "output_type": "stream",
          "text": [
            "Média da coluna 'lucro_liquido': 119.94748784440843\n"
          ]
        }
      ],
      "source": [
        "# Cálculo da média da coluna 'lucro_liquido'\n",
        "media_lucro_liquido = df['lucro_liquido'].mean()\n",
        "\n",
        "print(\"Média da coluna 'lucro_liquido':\", media_lucro_liquido)"
      ]
    },
    {
      "cell_type": "code",
      "execution_count": null,
      "id": "ed51f651",
      "metadata": {
        "id": "ed51f651",
        "outputId": "4dea1ad6-0be3-47e3-b595-4838a53e0056"
      },
      "outputs": [
        {
          "name": "stdout",
          "output_type": "stream",
          "text": [
            "Mediana da coluna 'lucro_liquido': 32.0\n"
          ]
        }
      ],
      "source": [
        "# Cálculo da mediana da coluna 'lucro_liquido'\n",
        "mediana_lucro_liquido = df['lucro_liquido'].median()\n",
        "print(\"Mediana da coluna 'lucro_liquido':\", mediana_lucro_liquido)"
      ]
    },
    {
      "cell_type": "code",
      "execution_count": null,
      "id": "a878669e",
      "metadata": {
        "id": "a878669e",
        "outputId": "88b30cb9-0c90-46d8-ba83-7fd2c3d9c1a2"
      },
      "outputs": [
        {
          "name": "stdout",
          "output_type": "stream",
          "text": [
            "Moda da coluna 'lucro_liquido':\n",
            "0    24.0\n",
            "Name: lucro_liquido, dtype: float64\n"
          ]
        }
      ],
      "source": [
        "# Cálculo da moda da coluna 'lucro_liquido'\n",
        "moda_lucro_liquido = df['lucro_liquido'].mode()\n",
        "print(\"Moda da coluna 'lucro_liquido':\")\n",
        "print(moda_lucro_liquido)"
      ]
    },
    {
      "cell_type": "code",
      "execution_count": null,
      "id": "8b6d3339",
      "metadata": {
        "id": "8b6d3339",
        "outputId": "9fa5e4fe-1604-4c29-a371-2d42f6cb0698"
      },
      "outputs": [
        {
          "name": "stdout",
          "output_type": "stream",
          "text": [
            "Primeiras linhas do DataFrame após substituição:\n",
            "  cod_pedido regiao_pais                       produto  valor  quantidade  \\\n",
            "0     150581       Norte  Biscoito  True Champion 300g  162.0        22.0   \n",
            "1     150582       Norte  Biscoito  True Champion 300g  162.0         2.0   \n",
            "2     150583       Norte  Biscoito  True Champion 300g  162.0         4.0   \n",
            "3     150584       Norte  Biscoito  True Champion 300g  162.0         4.0   \n",
            "4     150585       Norte  Biscoito  True Champion 300g  162.0         2.0   \n",
            "\n",
            "   valor_total_bruto       data     estado       formapagto  \\\n",
            "0               81.0 2022-01-03       Acre              Pix   \n",
            "1               81.0 2022-07-01      Amapá  Boleto Bancário   \n",
            "2               81.0 2022-07-01       Pará  Boleto Bancário   \n",
            "3               81.0 2022-07-01   Rondônia         Dinheiro   \n",
            "4               81.0 2022-07-01  Tocantins         Dinheiro   \n",
            "\n",
            "  centro_distribuicao responsavelpedido  valor_comissao  lucro_liquido  \\\n",
            "0          Rapid Pink            Carlos             4.0           32.0   \n",
            "1          Rapid Pink       Maria Linda             4.0           32.0   \n",
            "2          Rapid Pink             Julia             4.0           32.0   \n",
            "3          Rapid Pink              Yuri             4.0           32.0   \n",
            "4          Rapid Pink           Dolores             4.0           32.0   \n",
            "\n",
            "  categoriaprod  \n",
            "0   Alimentação  \n",
            "1   Alimentação  \n",
            "2   Alimentação  \n",
            "3   Alimentação  \n",
            "4   Alimentação  \n"
          ]
        }
      ],
      "source": [
        "# Exibir as primeiras linhas do DataFrame para verificar a substituição\n",
        "\n",
        "print(\"Primeiras linhas do DataFrame após substituição:\")\n",
        "print(df.head())"
      ]
    },
    {
      "cell_type": "code",
      "execution_count": null,
      "id": "aa81e53a",
      "metadata": {
        "id": "aa81e53a",
        "outputId": "feb89d4a-544d-4a84-a477-225b1c2c5fc6"
      },
      "outputs": [
        {
          "name": "stdout",
          "output_type": "stream",
          "text": [
            "Contagem de NaN em cada coluna:\n",
            " cod_pedido             0\n",
            "regiao_pais            0\n",
            "produto                0\n",
            "valor                  0\n",
            "quantidade             0\n",
            "valor_total_bruto      0\n",
            "data                   0\n",
            "estado                 0\n",
            "formapagto             0\n",
            "centro_distribuicao    0\n",
            "responsavelpedido      0\n",
            "valor_comissao         0\n",
            "lucro_liquido          0\n",
            "categoriaprod          0\n",
            "dtype: int64\n"
          ]
        }
      ],
      "source": [
        "# Contar quantos NaN/NaT há em cada coluna\n",
        "na_counts = df.isna().sum()\n",
        "print(\"Contagem de NaN em cada coluna:\\n\", na_counts)"
      ]
    },
    {
      "cell_type": "code",
      "execution_count": null,
      "id": "81f3b775",
      "metadata": {
        "id": "81f3b775",
        "outputId": "b518f1d6-3645-40e6-a68e-b1dae27d2b25"
      },
      "outputs": [
        {
          "name": "stdout",
          "output_type": "stream",
          "text": [
            "Descrição estatística do DataFrame:\n",
            "              valor    quantidade  valor_total_bruto  \\\n",
            "count  50400.000000  50400.000000       5.040000e+04   \n",
            "mean     162.456429      2.571706       2.135699e+02   \n",
            "min       81.000000      1.000000       0.000000e+00   \n",
            "25%      162.000000      1.000000       8.100000e+01   \n",
            "50%      162.000000      1.000000       8.100000e+01   \n",
            "75%      162.000000      2.000000       8.100000e+01   \n",
            "max     1377.000000     47.000000       3.456346e+06   \n",
            "std       29.009361      5.656382       1.910240e+04   \n",
            "\n",
            "                                data  valor_comissao  lucro_liquido  \n",
            "count                          50400    50400.000000   50400.000000  \n",
            "mean   2022-06-15 06:10:32.571428608        4.229405      48.149881  \n",
            "min              2022-01-01 00:00:00        1.000000       3.000000  \n",
            "25%              2022-03-04 00:00:00        4.000000      32.000000  \n",
            "50%              2022-06-04 00:00:00        4.000000      32.000000  \n",
            "75%              2022-09-04 00:00:00        4.000000      32.000000  \n",
            "max              2022-12-04 00:00:00     2205.000000   11475.000000  \n",
            "std                              NaN       16.325346     219.422619  \n"
          ]
        }
      ],
      "source": [
        "# Gerar uma descrição estatística do DataFrame\n",
        "descricao = df.describe()\n",
        "print(\"Descrição estatística do DataFrame:\")\n",
        "print(descricao)"
      ]
    },
    {
      "cell_type": "code",
      "execution_count": null,
      "id": "26a0860b",
      "metadata": {
        "id": "26a0860b",
        "outputId": "7d99e251-4654-4387-a233-5648bdcec10d"
      },
      "outputs": [
        {
          "name": "stdout",
          "output_type": "stream",
          "text": [
            "cod_pedido                     object\n",
            "regiao_pais                    object\n",
            "produto                        object\n",
            "valor                         float64\n",
            "quantidade                    float64\n",
            "valor_total_bruto             float64\n",
            "data                   datetime64[ns]\n",
            "estado                         object\n",
            "formapagto                     object\n",
            "centro_distribuicao            object\n",
            "responsavelpedido              object\n",
            "valor_comissao                float64\n",
            "lucro_liquido                 float64\n",
            "categoriaprod                  object\n",
            "dtype: object\n"
          ]
        }
      ],
      "source": [
        "# Converter a coluna 'cod_pedido' de int64 para object\n",
        "df['cod_pedido'] = df['cod_pedido'].astype('object')\n",
        "print(df.dtypes)"
      ]
    },
    {
      "cell_type": "code",
      "execution_count": null,
      "id": "fb63dd55",
      "metadata": {
        "id": "fb63dd55",
        "outputId": "f5bf0ae3-12e3-40b6-c6c3-edcb75cc1040"
      },
      "outputs": [
        {
          "name": "stdout",
          "output_type": "stream",
          "text": [
            "Contagem de NaN em cada coluna:\n",
            " cod_pedido             0\n",
            "regiao_pais            0\n",
            "produto                0\n",
            "valor                  0\n",
            "quantidade             0\n",
            "valor_total_bruto      0\n",
            "data                   0\n",
            "estado                 0\n",
            "formapagto             0\n",
            "centro_distribuicao    0\n",
            "responsavelpedido      0\n",
            "valor_comissao         0\n",
            "lucro_liquido          0\n",
            "categoriaprod          0\n",
            "dtype: int64\n"
          ]
        }
      ],
      "source": [
        "# Contar quantos NaN/NaT há em cada coluna\n",
        "na_counts = df.isna().sum()\n",
        "print(\"Contagem de NaN em cada coluna:\\n\", na_counts)"
      ]
    },
    {
      "cell_type": "code",
      "execution_count": null,
      "id": "ef370ea3",
      "metadata": {
        "id": "ef370ea3",
        "outputId": "0ab35115-3ad0-4456-f4be-6ac1860449e3"
      },
      "outputs": [
        {
          "name": "stdout",
          "output_type": "stream",
          "text": [
            "Descrição estatística completa do DataFrame:\n",
            "        cod_pedido regiao_pais                       produto         valor  \\\n",
            "count      50400.0       50400                         50400  50400.000000   \n",
            "unique     50400.0           5                            24           NaN   \n",
            "top       200964.0       Norte  Biscoito  True Champion 300g           NaN   \n",
            "freq           1.0       14112                          2100           NaN   \n",
            "mean           NaN         NaN                           NaN    162.456429   \n",
            "min            NaN         NaN                           NaN     81.000000   \n",
            "25%            NaN         NaN                           NaN    162.000000   \n",
            "50%            NaN         NaN                           NaN    162.000000   \n",
            "75%            NaN         NaN                           NaN    162.000000   \n",
            "max            NaN         NaN                           NaN   1377.000000   \n",
            "std            NaN         NaN                           NaN     29.009361   \n",
            "\n",
            "          quantidade  valor_total_bruto                           data estado  \\\n",
            "count   50400.000000       5.040000e+04                          50400  50400   \n",
            "unique           NaN                NaN                            NaN     25   \n",
            "top              NaN                NaN                            NaN   Acre   \n",
            "freq             NaN                NaN                            NaN   2016   \n",
            "mean        2.571706       2.135699e+02  2022-06-15 06:10:32.571428608    NaN   \n",
            "min         1.000000       0.000000e+00            2022-01-01 00:00:00    NaN   \n",
            "25%         1.000000       8.100000e+01            2022-03-04 00:00:00    NaN   \n",
            "50%         1.000000       8.100000e+01            2022-06-04 00:00:00    NaN   \n",
            "75%         2.000000       8.100000e+01            2022-09-04 00:00:00    NaN   \n",
            "max        47.000000       3.456346e+06            2022-12-04 00:00:00    NaN   \n",
            "std         5.656382       1.910240e+04                            NaN    NaN   \n",
            "\n",
            "            formapagto centro_distribuicao responsavelpedido  valor_comissao  \\\n",
            "count            50400               50400             50400    50400.000000   \n",
            "unique               5                   5                25             NaN   \n",
            "top     Cartão Crédito          Rapid Pink            Carlos             NaN   \n",
            "freq             10215               14112              2016             NaN   \n",
            "mean               NaN                 NaN               NaN        4.229405   \n",
            "min                NaN                 NaN               NaN        1.000000   \n",
            "25%                NaN                 NaN               NaN        4.000000   \n",
            "50%                NaN                 NaN               NaN        4.000000   \n",
            "75%                NaN                 NaN               NaN        4.000000   \n",
            "max                NaN                 NaN               NaN     2205.000000   \n",
            "std                NaN                 NaN               NaN       16.325346   \n",
            "\n",
            "        lucro_liquido categoriaprod  \n",
            "count    50400.000000         50400  \n",
            "unique            NaN             7  \n",
            "top               NaN     Acessório  \n",
            "freq              NaN         12600  \n",
            "mean        48.149881           NaN  \n",
            "min          3.000000           NaN  \n",
            "25%         32.000000           NaN  \n",
            "50%         32.000000           NaN  \n",
            "75%         32.000000           NaN  \n",
            "max      11475.000000           NaN  \n",
            "std        219.422619           NaN  \n"
          ]
        }
      ],
      "source": [
        "# Gerar uma descrição estatística para todas as colunas\n",
        "descricao = df.describe(include='all')\n",
        "print(\"Descrição estatística completa do DataFrame:\")\n",
        "print(descricao)"
      ]
    },
    {
      "cell_type": "code",
      "execution_count": null,
      "id": "67b2659b",
      "metadata": {
        "id": "67b2659b"
      },
      "outputs": [],
      "source": [
        "# Combinar todos os DataFrames em um único DataFrame\n",
        "data = pd.concat(dfs, ignore_index=True)"
      ]
    },
    {
      "cell_type": "code",
      "execution_count": null,
      "id": "1b6b2f7e",
      "metadata": {
        "id": "1b6b2f7e",
        "outputId": "c89a6282-d8ae-4e00-b2b1-72bd1e372268"
      },
      "outputs": [
        {
          "name": "stdout",
          "output_type": "stream",
          "text": [
            "Média do preço por região:\n",
            "regiao_pais\n",
            "Centro Oeste    162.753348\n",
            "Nordeste        162.321429\n",
            "Norte           162.608418\n",
            "Sudeste         162.088393\n",
            "Sul             162.589286\n",
            "Name: valor, dtype: float64\n"
          ]
        }
      ],
      "source": [
        "# Calcular a média de 'valor' por 'regiao_pais'\n",
        "media_preco_por_regiao = df.groupby('regiao_pais')['valor'].mean()\n",
        "print(\"Média do preço por região:\")\n",
        "print(media_preco_por_regiao)"
      ]
    },
    {
      "cell_type": "code",
      "execution_count": null,
      "id": "a515e178",
      "metadata": {
        "id": "a515e178",
        "outputId": "435e50f5-ea35-4697-c029-93602570b27b"
      },
      "outputs": [
        {
          "name": "stdout",
          "output_type": "stream",
          "text": [
            "Outliers encontrados na coluna 'valor_total_bruto':\n",
            " 8        2534234.0\n",
            "102           34.0\n",
            "164          354.0\n",
            "226          532.0\n",
            "319          354.0\n",
            "           ...    \n",
            "50001        891.0\n",
            "50015        891.0\n",
            "50058       1782.0\n",
            "50157       1296.0\n",
            "50222        486.0\n",
            "Name: valor_total_bruto, Length: 352, dtype: float64\n"
          ]
        }
      ],
      "source": [
        "# Cálculo do outliers da coluna 'valor_total_bruto'\n",
        "\n",
        "Q1 = df['valor_total_bruto'].quantile(0.25)\n",
        "Q3 = df['valor_total_bruto'].quantile(0.75)\n",
        "IQR = Q3 - Q1\n",
        "limite_inferior = Q1 - 1.5 * IQR\n",
        "limite_superior = Q3 + 1.5 * IQR\n",
        "\n",
        "outliers = df['valor_total_bruto'][(df['valor_total_bruto'] < limite_inferior) | (df['valor_total_bruto'] > limite_superior)]\n",
        "\n",
        "print(\"Outliers encontrados na coluna 'valor_total_bruto':\\n\", outliers)\n"
      ]
    },
    {
      "cell_type": "code",
      "execution_count": null,
      "id": "f09996ea",
      "metadata": {
        "scrolled": true,
        "id": "f09996ea",
        "outputId": "b8096b58-4fe5-4230-c3c6-3ec66dd9802b"
      },
      "outputs": [
        {
          "name": "stdout",
          "output_type": "stream",
          "text": [
            "Outliers encontrados na coluna 'quantidade':\n",
            " 0        22.0\n",
            "2         4.0\n",
            "3         4.0\n",
            "5         4.0\n",
            "9         4.0\n",
            "         ... \n",
            "50125    44.0\n",
            "50185    45.0\n",
            "50193    42.0\n",
            "50219    43.0\n",
            "50244    42.0\n",
            "Name: quantidade, Length: 2569, dtype: float64\n"
          ]
        }
      ],
      "source": [
        "# Cálculo do outliers da coluna 'quantidade'\n",
        "\n",
        "Q1_quantidade = df['quantidade'].quantile(0.25)\n",
        "Q3_quantidade = df['quantidade'].quantile(0.75)\n",
        "IQR_quantidade = Q3_quantidade - Q1_quantidade\n",
        "limite_inferior_quantidade = Q1_quantidade - 1.5 * IQR_quantidade\n",
        "limite_superior_quantidade = Q3_quantidade + 1.5 * IQR_quantidade\n",
        "\n",
        "outliers_quantidade = df[(df['quantidade'] < limite_inferior_quantidade) | (df['quantidade'] > limite_superior_quantidade)]['quantidade']\n",
        "\n",
        "print(\"Outliers encontrados na coluna 'quantidade':\\n\", outliers_quantidade)\n"
      ]
    },
    {
      "cell_type": "code",
      "execution_count": null,
      "id": "779ef011",
      "metadata": {
        "id": "779ef011",
        "outputId": "a5be2a38-37b8-4877-99d1-2df2e87a2103"
      },
      "outputs": [
        {
          "name": "stdout",
          "output_type": "stream",
          "text": [
            "Descrição das vendas associadas aos outliers da coluna 'quantidade':\n",
            " count     2569.000000\n",
            "mean       180.968470\n",
            "std       1450.313185\n",
            "min          0.000000\n",
            "25%         81.000000\n",
            "50%         81.000000\n",
            "75%         81.000000\n",
            "max      47061.000000\n",
            "Name: valor_total_bruto, dtype: float64\n"
          ]
        }
      ],
      "source": [
        "# Filtrando as vendas associadas aos outliers da 'quantidade'\n",
        "vendas_outliers = df[df['quantidade'].isin(outliers_quantidade)]['valor_total_bruto']\n",
        "\n",
        "print(\"Descrição das vendas associadas aos outliers da coluna 'quantidade':\\n\", vendas_outliers.describe())\n"
      ]
    },
    {
      "cell_type": "code",
      "execution_count": null,
      "id": "b80d9124",
      "metadata": {
        "id": "b80d9124"
      },
      "outputs": [],
      "source": [
        "# Removendo os outliers para calcular a estimativa de variabilidade\n",
        "df_sem_outliers = df[(df['quantidade'] >= limite_inferior) & (df['quantidade'] <= limite_superior)]"
      ]
    },
    {
      "cell_type": "code",
      "execution_count": null,
      "id": "3cff118e",
      "metadata": {
        "id": "3cff118e",
        "outputId": "cf16fde5-c6e2-4709-83f9-d8567f17ba2c"
      },
      "outputs": [
        {
          "name": "stdout",
          "output_type": "stream",
          "text": [
            "Desvio padrão (sem outliers) da coluna 'quantidade': nan\n"
          ]
        }
      ],
      "source": [
        "# Calculando a estimativa de variabilidade (desvio padrão) para a coluna 'quantidade' sem os outliers\n",
        "variabilidade_sem_outliers = df_sem_outliers['quantidade'].std()\n",
        "\n",
        "print(f\"Desvio padrão (sem outliers) da coluna 'quantidade': {variabilidade_sem_outliers}\")"
      ]
    },
    {
      "cell_type": "code",
      "execution_count": null,
      "id": "0a0113f7",
      "metadata": {
        "id": "0a0113f7",
        "outputId": "e8e2a17f-5fef-46ce-a8cf-f6f300790dfe"
      },
      "outputs": [
        {
          "name": "stdout",
          "output_type": "stream",
          "text": [
            "\n",
            "Estatísticas descritivas para 'valor_total_bruto' dos outliers:\n",
            "count    4.000000e+00\n",
            "mean     1.536041e+06\n",
            "std      1.726551e+06\n",
            "min      6.789600e+04\n",
            "25%      8.123925e+04\n",
            "50%      1.309960e+06\n",
            "75%      2.764762e+06\n",
            "max      3.456346e+06\n",
            "Name: valor_total_bruto, dtype: float64\n"
          ]
        }
      ],
      "source": [
        "# Estatísticas descritivas para a coluna 'valor_total_bruto'\n",
        "valor_total_mean = df['valor_total_bruto'].mean()\n",
        "valor_total_std = df['valor_total_bruto'].std()\n",
        "\n",
        "print(\"\\nEstatísticas descritivas para 'valor_total_bruto' dos outliers:\")\n",
        "print(outliers_valor_bruto['valor_total_bruto'].describe())"
      ]
    },
    {
      "cell_type": "code",
      "execution_count": null,
      "id": "be926fec",
      "metadata": {
        "id": "be926fec"
      },
      "outputs": [],
      "source": [
        "# Definir o limite superior para identificar outliers (média + 3 desvio padrão)\n",
        "limite_superior_valor_bruto = valor_total_mean + (3 * valor_total_std)"
      ]
    },
    {
      "cell_type": "code",
      "execution_count": null,
      "id": "c9414a29",
      "metadata": {
        "id": "c9414a29",
        "outputId": "bf7d2913-38bd-438a-a2fc-a58324d394f1"
      },
      "outputs": [
        {
          "name": "stdout",
          "output_type": "stream",
          "text": [
            "Outliers na coluna 'valor_total_bruto':\n",
            "     cod_pedido   regiao_pais  \\\n",
            "8        150589  Centro Oeste   \n",
            "838      151419      Nordeste   \n",
            "877      151458         Norte   \n",
            "2613     153194      Nordeste   \n",
            "\n",
            "                                                produto  valor  quantidade  \\\n",
            "8                          Biscoito  True Champion 300g  162.0         2.0   \n",
            "838   Suplemento Alimentar Glutamina Mundo Animal Nu...  162.0         1.0   \n",
            "877   Escova Pet Rasqueadeira Tira Pelos Cachorro e ...  162.0         1.0   \n",
            "2613  Antipulgas e Carrapatos MSD Bravecto para Pet ...  162.0         2.0   \n",
            "\n",
            "      valor_total_bruto       data       estado       formapagto  \\\n",
            "8             2534234.0 2022-04-03  Mato Grosso  Boleto Bancário   \n",
            "838           3456346.0 2022-09-01        Ceará  Boleto Bancário   \n",
            "877             67896.0 2022-01-01         Pará    Cartão Débito   \n",
            "2613            85687.0 2022-05-03        Ceará   Cartão Crédito   \n",
            "\n",
            "     centro_distribuicao responsavelpedido  valor_comissao  lucro_liquido  \\\n",
            "8             Grãos Blue          Andressa             4.0           32.0   \n",
            "838           Gold Beach             Neide             4.0           32.0   \n",
            "877           Rapid Pink             Julia             4.0           32.0   \n",
            "2613          Gold Beach             Neide             4.0           32.0   \n",
            "\n",
            "          categoriaprod  \n",
            "8           Alimentação  \n",
            "838         Medicamento  \n",
            "877   Higiene e Limpeza  \n",
            "2613        Medicamento  \n"
          ]
        }
      ],
      "source": [
        "# Identificar os outliers na coluna 'valor_total_bruto'\n",
        "outliers_valor_bruto = df[df['valor_total_bruto'] > limite_superior_valor_bruto]\n",
        "print(\"Outliers na coluna 'valor_total_bruto':\")\n",
        "print(outliers_valor_bruto)\n"
      ]
    },
    {
      "cell_type": "code",
      "execution_count": null,
      "id": "5e03b1a6",
      "metadata": {
        "id": "5e03b1a6"
      },
      "outputs": [],
      "source": [
        "# Filtrar o DataFrame removendo os outliers de 'valor_total_bruto'\n",
        "df_sem_outliers_valor_bruto = df[df['valor_total_bruto'] <= limite_superior_valor_bruto]\n"
      ]
    },
    {
      "cell_type": "code",
      "execution_count": null,
      "id": "ce8fe60a",
      "metadata": {
        "id": "ce8fe60a",
        "outputId": "f7b0e87e-d499-4472-9320-e31ab90c3afe"
      },
      "outputs": [
        {
          "name": "stdout",
          "output_type": "stream",
          "text": [
            "\n",
            "Desvio padrão de 'valor_total_bruto' sem outliers: 486.6335624615527\n"
          ]
        }
      ],
      "source": [
        "# Calcular o desvio padrão da coluna 'valor_total_bruto' sem os outliers\n",
        "desvio_padrao_sem_outliers_valor_bruto = df_sem_outliers_valor_bruto['valor_total_bruto'].std()\n",
        "\n",
        "print(f\"\\nDesvio padrão de 'valor_total_bruto' sem outliers: {desvio_padrao_sem_outliers_valor_bruto}\")"
      ]
    },
    {
      "cell_type": "code",
      "execution_count": null,
      "id": "b05a38bc",
      "metadata": {
        "id": "b05a38bc",
        "outputId": "3dcfa9f8-b0ab-40b3-9033-868293aef4fe"
      },
      "outputs": [
        {
          "name": "stdout",
          "output_type": "stream",
          "text": [
            "Média de 'quantidade': 2.571706349206349\n",
            "Desvio padrão de 'quantidade': 5.6563822078096155\n"
          ]
        }
      ],
      "source": [
        "# Estatísticas descritivas para a coluna 'quantidade'\n",
        "quantidade_mean = df['quantidade'].mean()\n",
        "quantidade_std = df['quantidade'].std()\n",
        "\n",
        "print(f\"Média de 'quantidade': {quantidade_mean}\")\n",
        "print(f\"Desvio padrão de 'quantidade': {quantidade_std}\")"
      ]
    },
    {
      "cell_type": "code",
      "execution_count": null,
      "id": "20763acf",
      "metadata": {
        "id": "20763acf",
        "outputId": "43a4a58f-d587-4b7b-d59b-92725bb52c87"
      },
      "outputs": [
        {
          "name": "stdout",
          "output_type": "stream",
          "text": [
            "Limite superior para outliers em 'quantidade': 19.540852972635196\n"
          ]
        }
      ],
      "source": [
        "# Definir o limite superior para identificar outliers\n",
        "limite_superior = quantidade_mean + (3 * quantidade_std)\n",
        "\n",
        "print(f\"Limite superior para outliers em 'quantidade': {limite_superior}\")\n"
      ]
    },
    {
      "cell_type": "code",
      "execution_count": null,
      "id": "87eb3ed2",
      "metadata": {
        "id": "87eb3ed2",
        "outputId": "088a0f63-f341-40cc-8199-645aee21b53c"
      },
      "outputs": [
        {
          "name": "stdout",
          "output_type": "stream",
          "text": [
            "Outliers na coluna 'quantidade':\n",
            "      cod_pedido   regiao_pais  \\\n",
            "0         150581         Norte   \n",
            "33        150614  Centro Oeste   \n",
            "42        150623       Sudeste   \n",
            "71        150652       Sudeste   \n",
            "182       150763  Centro Oeste   \n",
            "...          ...           ...   \n",
            "50125     200706         Norte   \n",
            "50185     200766  Centro Oeste   \n",
            "50193     200774       Sudeste   \n",
            "50219     200800       Sudeste   \n",
            "50244     200825       Sudeste   \n",
            "\n",
            "                                                 produto  valor  quantidade  \\\n",
            "0                           Biscoito  True Champion 300g  162.0        22.0   \n",
            "33                               Bola Pet Vinil Big Blue  162.0        40.0   \n",
            "42                               Bola Pet Vinil Big Blue  162.0        21.0   \n",
            "71                            Cama média almofadada Pity  162.0        21.0   \n",
            "182                        Vitamina E Granulado BigForce  162.0        22.0   \n",
            "...                                                  ...    ...         ...   \n",
            "50125  Bebedouro e Comedouro Automático para Cães e G...  162.0        44.0   \n",
            "50185  Ração Royal Canin Club Performance para Cães A...  162.0        45.0   \n",
            "50193  Ração Royal Canin Club Performance para Cães A...  162.0        42.0   \n",
            "50219      Ração Royal Canin Exigent Gatos Adultos 1,5Kg  162.0        43.0   \n",
            "50244  Ração Úmida Royal Canin Lata Veterinary Cães A...  162.0        42.0   \n",
            "\n",
            "       valor_total_bruto       data            estado       formapagto  \\\n",
            "0                   81.0 2022-01-03              Acre              Pix   \n",
            "33                  81.0 2022-11-01       Mato Grosso    Cartão Débito   \n",
            "42                  81.0 2022-07-04             Piauí  Boleto Bancário   \n",
            "71                  81.0 2022-07-04    Espírito Santo              Pix   \n",
            "182                 81.0 2022-08-02             Goiás  Boleto Bancário   \n",
            "...                  ...        ...               ...              ...   \n",
            "50125               81.0 2022-05-02              Acre         Dinheiro   \n",
            "50185               81.0 2022-07-04  Distrito Federal              Pix   \n",
            "50193               81.0 2022-01-03         São Paulo              Pix   \n",
            "50219               81.0 2022-01-01      Minas Gerais   Cartão Crédito   \n",
            "50244               81.0 2022-01-03      Minas Gerais         Dinheiro   \n",
            "\n",
            "      centro_distribuicao responsavelpedido  valor_comissao  lucro_liquido  \\\n",
            "0              Rapid Pink            Carlos             4.0           32.0   \n",
            "33             Grãos Blue          Andressa             4.0          304.0   \n",
            "42            Papa Léguas          Cristian             4.0           32.0   \n",
            "71            Papa Léguas            Tereza             4.0           32.0   \n",
            "182            Grãos Blue       Maria Clara             4.0           32.0   \n",
            "...                   ...               ...             ...            ...   \n",
            "50125          Rapid Pink            Carlos             4.0          880.0   \n",
            "50185          Grãos Blue             Lucia             4.0         3816.0   \n",
            "50193         Papa Léguas            Miriam             4.0         3612.0   \n",
            "50219         Papa Léguas           Monique             4.0         2193.0   \n",
            "50244         Papa Léguas           Monique             4.0          546.0   \n",
            "\n",
            "                 categoriaprod  \n",
            "0                  Alimentação  \n",
            "33                   Brinquedo  \n",
            "42                   Brinquedo  \n",
            "71                   Acessório  \n",
            "182                Medicamento  \n",
            "...                        ...  \n",
            "50125  Bebedouros e Comedouros  \n",
            "50185              Alimentação  \n",
            "50193              Alimentação  \n",
            "50219              Alimentação  \n",
            "50244              Alimentação  \n",
            "\n",
            "[1430 rows x 14 columns]\n"
          ]
        }
      ],
      "source": [
        "# Identificar os outliers na coluna 'quantidade' garantindo que todas as colunas sejam mantidas\n",
        "outliers_quantidade = df[df['quantidade'] > limite_superior]\n",
        "print(\"Outliers na coluna 'quantidade':\")\n",
        "print(outliers_quantidade)\n"
      ]
    },
    {
      "cell_type": "code",
      "execution_count": null,
      "id": "00cc8cb4",
      "metadata": {
        "id": "00cc8cb4",
        "outputId": "c64d4393-ed03-483e-85d2-881ead4ce6f3"
      },
      "outputs": [
        {
          "name": "stdout",
          "output_type": "stream",
          "text": [
            "\n",
            "Estatísticas descritivas para 'valor_total_bruto' dos outliers de 'quantidade':\n",
            "count     1430.000000\n",
            "mean       260.669930\n",
            "std       1940.518139\n",
            "min          0.000000\n",
            "25%         81.000000\n",
            "50%         81.000000\n",
            "75%         81.000000\n",
            "max      47061.000000\n",
            "Name: valor_total_bruto, dtype: float64\n"
          ]
        }
      ],
      "source": [
        "# Verificar se 'valor_total_bruto' está presente nas colunas dos outliers\n",
        "if 'valor_total_bruto' in outliers_quantidade.columns:\n",
        "    valor_bruto_outliers_quantidade = outliers_quantidade['valor_total_bruto']\n",
        "\n",
        "    print(\"\\nEstatísticas descritivas para 'valor_total_bruto' dos outliers de 'quantidade':\")\n",
        "    print(valor_bruto_outliers_quantidade.describe())\n",
        "else:\n",
        "    print(\"'valor_total_bruto' não encontrado no DataFrame de outliers.\")\n"
      ]
    },
    {
      "cell_type": "code",
      "execution_count": null,
      "id": "1eccf3d3",
      "metadata": {
        "id": "1eccf3d3",
        "outputId": "15df4090-afe0-42f1-ef88-9112fb1a56af"
      },
      "outputs": [
        {
          "name": "stdout",
          "output_type": "stream",
          "text": [
            "\n",
            "Desvio padrão de 'quantidade' sem outliers: 0.848767829514076\n"
          ]
        }
      ],
      "source": [
        "# Filtrar o DataFrame removendo os outliers de 'quantidade'\n",
        "df_sem_outliers_quantidade = df[df['quantidade'] <= limite_superior]\n",
        "\n",
        "# Calcular o desvio padrão da coluna 'quantidade' sem os outliers\n",
        "desvio_padrao_sem_outliers_quantidade = df_sem_outliers_quantidade['quantidade'].std()\n",
        "print(f\"\\nDesvio padrão de 'quantidade' sem outliers: {desvio_padrao_sem_outliers_quantidade}\")\n"
      ]
    },
    {
      "cell_type": "code",
      "execution_count": null,
      "id": "c5957ce7",
      "metadata": {
        "id": "c5957ce7",
        "outputId": "d49cb77f-7fcf-4716-b509-19f1e52769b9"
      },
      "outputs": [
        {
          "name": "stdout",
          "output_type": "stream",
          "text": [
            "Média de preço da população: 162.45642857142857\n"
          ]
        }
      ],
      "source": [
        "# Calcular a média de preço da população\n",
        "media_populacao = df['valor'].mean()\n",
        "print(f\"Média de preço da população: {media_populacao}\")\n"
      ]
    },
    {
      "cell_type": "code",
      "execution_count": null,
      "id": "578896dc",
      "metadata": {
        "id": "578896dc",
        "outputId": "32bb26a0-46d4-405d-b263-4d9705e52e87"
      },
      "outputs": [
        {
          "name": "stdout",
          "output_type": "stream",
          "text": [
            "\n",
            "Região: Norte\n",
            "Média de preço da região: 162.60841836734693\n",
            "Estatística t: 0.5680052699443413, Valor p: 0.5700404270698654\n",
            "Nenhuma diferença estatisticamente significativa com a média da população.\n",
            "\n",
            "Região: Centro Oeste\n",
            "Média de preço da região: 162.75334821428572\n",
            "Estatística t: 0.7672136077596723, Valor p: 0.4429769878037719\n",
            "Nenhuma diferença estatisticamente significativa com a média da população.\n",
            "\n",
            "Região: Nordeste\n",
            "Média de preço da região: 162.32142857142858\n",
            "Estatística t: -0.5587259631340973, Valor p: 0.576359100936066\n",
            "Nenhuma diferença estatisticamente significativa com a média da população.\n",
            "\n",
            "Região: Sudeste\n",
            "Média de preço da região: 162.08839285714285\n",
            "Estatística t: -1.7977347052888613, Valor p: 0.07224897707808584\n",
            "Nenhuma diferença estatisticamente significativa com a média da população.\n",
            "\n",
            "Região: Sul\n",
            "Média de preço da região: 162.58928571428572\n",
            "Estatística t: 0.3390939969493738, Valor p: 0.7345506952885925\n",
            "Nenhuma diferença estatisticamente significativa com a média da população.\n"
          ]
        }
      ],
      "source": [
        "# Teste de hipóteses para cada região\n",
        "for regiao in df['regiao_pais'].unique():\n",
        "    # Média de preço por região\n",
        "    media_regiao = df[df['regiao_pais'] == regiao]['valor'].mean()\n",
        "\n",
        "    # Teste t para comparar a média da região com a média da população\n",
        "    t_stat, p_value = ttest_1samp(df[df['regiao_pais'] == regiao]['valor'], media_populacao)\n",
        "\n",
        "    # Exibir os resultados\n",
        "    print(f\"\\nRegião: {regiao}\")\n",
        "    print(f\"Média de preço da região: {media_regiao}\")\n",
        "    print(f\"Estatística t: {t_stat}, Valor p: {p_value}\")\n",
        "\n",
        "    # Avaliar significância\n",
        "    if p_value < 0.05:\n",
        "        print(\"Diferença estatisticamente significativa com a média da população.\")\n",
        "    else:\n",
        "        print(\"Nenhuma diferença estatisticamente significativa com a média da população.\")\n"
      ]
    },
    {
      "cell_type": "code",
      "execution_count": null,
      "id": "71b3e562",
      "metadata": {
        "id": "71b3e562",
        "outputId": "5dab469e-3897-4210-9eaf-2e6efa212283"
      },
      "outputs": [
        {
          "name": "stdout",
          "output_type": "stream",
          "text": [
            "\n",
            "Modalidade de Pagamento: Pix\n",
            "Média de preço da modalidade: 162.46616392141297\n",
            "Estatística t: 0.03370111022232572, Valor p: 0.973116161120881\n",
            "Nenhuma diferença estatisticamente significativa com a média da população.\n",
            "\n",
            "Modalidade de Pagamento: Boleto Bancário\n",
            "Média de preço da modalidade: 162.3456385829116\n",
            "Estatística t: -0.4280300446853182, Valor p: 0.668638394700394\n",
            "Nenhuma diferença estatisticamente significativa com a média da população.\n",
            "\n",
            "Modalidade de Pagamento: Dinheiro\n",
            "Média de preço da modalidade: 162.09619952494063\n",
            "Estatística t: -1.7651549213046847, Valor p: 0.07756793779417802\n",
            "Nenhuma diferença estatisticamente significativa com a média da população.\n",
            "\n",
            "Modalidade de Pagamento: Cartão Débito\n",
            "Média de preço da modalidade: 162.98740681039695\n",
            "Estatística t: 1.4106093643012836, Valor p: 0.15839116951478424\n",
            "Nenhuma diferença estatisticamente significativa com a média da população.\n",
            "\n",
            "Modalidade de Pagamento: Cartão Crédito\n",
            "Média de preço da modalidade: 162.39647577092512\n",
            "Estatística t: -0.2050270646098181, Valor p: 0.8375550651633699\n",
            "Nenhuma diferença estatisticamente significativa com a média da população.\n"
          ]
        }
      ],
      "source": [
        "# Teste de hipóteses para cada modalidade de pagamento\n",
        "for pagamento in df['formapagto'].unique():\n",
        "    # Média de preço por modalidade de pagamento\n",
        "    media_pagamento = df[df['formapagto'] == pagamento]['valor'].mean()\n",
        "\n",
        "    # Teste t para comparar a média da modalidade de pagamento com a média da população\n",
        "    t_stat, p_value = ttest_1samp(df[df['formapagto'] == pagamento]['valor'], media_populacao)\n",
        "\n",
        "    print(f\"\\nModalidade de Pagamento: {pagamento}\")\n",
        "    print(f\"Média de preço da modalidade: {media_pagamento}\")\n",
        "    print(f\"Estatística t: {t_stat}, Valor p: {p_value}\")\n",
        "\n",
        "    # Avaliar significância\n",
        "    if p_value < 0.05:\n",
        "        print(\"Diferença estatisticamente significativa com a média da população.\")\n",
        "    else:\n",
        "        print(\"Nenhuma diferença estatisticamente significativa com a média da população.\")\n"
      ]
    },
    {
      "cell_type": "code",
      "execution_count": null,
      "id": "30d2cd41",
      "metadata": {
        "id": "30d2cd41",
        "outputId": "e59eaa1f-9969-464f-aab8-8b46a75ea176"
      },
      "outputs": [
        {
          "name": "stdout",
          "output_type": "stream",
          "text": [
            "Produtos que aparecem como outliers nas vendas:\n",
            "['Biscoito  True Champion 300g'\n",
            " 'Suplemento Alimentar Glutamina Mundo Animal Nutrisana'\n",
            " 'Escova Pet Rasqueadeira Tira Pelos Cachorro e Gatos'\n",
            " 'Antipulgas e Carrapatos MSD Bravecto para Pet de 2 a 10 Kg']\n"
          ]
        }
      ],
      "source": [
        "# Listar os produtos que aparecem como outliers nas vendas\n",
        "produtos_outliers = outliers_valor_bruto['produto'].unique()\n",
        "print(\"Produtos que aparecem como outliers nas vendas:\")\n",
        "print(produtos_outliers)"
      ]
    },
    {
      "cell_type": "code",
      "execution_count": null,
      "id": "1818ede3",
      "metadata": {
        "id": "1818ede3",
        "outputId": "ef9ea810-de8d-4384-8b52-0291c378ff34"
      },
      "outputs": [
        {
          "name": "stdout",
          "output_type": "stream",
          "text": [
            "Informações sobre os produtos que aparecem como outliers nas vendas:\n",
            "                                                produto   regiao_pais  \\\n",
            "8                          Biscoito  True Champion 300g  Centro Oeste   \n",
            "838   Suplemento Alimentar Glutamina Mundo Animal Nu...      Nordeste   \n",
            "877   Escova Pet Rasqueadeira Tira Pelos Cachorro e ...         Norte   \n",
            "2613  Antipulgas e Carrapatos MSD Bravecto para Pet ...      Nordeste   \n",
            "\n",
            "     centro_distribuicao  \n",
            "8             Grãos Blue  \n",
            "838           Gold Beach  \n",
            "877           Rapid Pink  \n",
            "2613          Gold Beach  \n"
          ]
        }
      ],
      "source": [
        "# Listar os produtos, regiões e centros de distribuição que aparecem como outliers nas vendas\n",
        "outliers_info = outliers_valor_bruto[['produto', 'regiao_pais', 'centro_distribuicao']]\n",
        "\n",
        "print(\"Informações sobre os produtos que aparecem como outliers nas vendas:\")\n",
        "print(outliers_info.drop_duplicates())  # Remover duplicatas para uma visão mais clara\n"
      ]
    },
    {
      "cell_type": "code",
      "execution_count": null,
      "id": "15b303d0",
      "metadata": {
        "id": "15b303d0",
        "outputId": "377f10eb-b474-42ee-8339-3012f9084330"
      },
      "outputs": [
        {
          "name": "stdout",
          "output_type": "stream",
          "text": [
            "Informações sobre os produtos que aparecem como outliers nas vendas:\n",
            "                                                produto   regiao_pais  \\\n",
            "8                          Biscoito  True Champion 300g  Centro Oeste   \n",
            "838   Suplemento Alimentar Glutamina Mundo Animal Nu...      Nordeste   \n",
            "877   Escova Pet Rasqueadeira Tira Pelos Cachorro e ...         Norte   \n",
            "2613  Antipulgas e Carrapatos MSD Bravecto para Pet ...      Nordeste   \n",
            "\n",
            "           data responsavelpedido  \n",
            "8    2022-04-03          Andressa  \n",
            "838  2022-09-01             Neide  \n",
            "877  2022-01-01             Julia  \n",
            "2613 2022-05-03             Neide  \n"
          ]
        }
      ],
      "source": [
        "# Listar as regiões, datas e responsáveis pelos pedidos que aparecem como outliers nas vendas\n",
        "outliers_info = outliers_valor_bruto[['produto', 'regiao_pais', 'data', 'responsavelpedido']]\n",
        "\n",
        "# Exibir as informações dos outliers\n",
        "print(\"Informações sobre os produtos que aparecem como outliers nas vendas:\")\n",
        "print(outliers_info.drop_duplicates())  # Remover duplicatas para uma visão mais clara\n"
      ]
    },
    {
      "cell_type": "code",
      "execution_count": null,
      "id": "c8faeb39",
      "metadata": {
        "id": "c8faeb39"
      },
      "outputs": [],
      "source": [
        "# Selecionar apenas colunas numéricas\n",
        "df_numerico = df.select_dtypes(include=['float64', 'int64'])"
      ]
    },
    {
      "cell_type": "code",
      "execution_count": null,
      "id": "d6995575",
      "metadata": {
        "id": "d6995575",
        "outputId": "1492c851-62f3-40b5-e349-59725b68a0d2"
      },
      "outputs": [
        {
          "name": "stdout",
          "output_type": "stream",
          "text": [
            "Matriz de Correlação:\n",
            "                      valor  quantidade  valor_total_bruto  valor_comissao  \\\n",
            "valor              1.000000   -0.072089           0.394570             NaN   \n",
            "quantidade        -0.072089    1.000000          -0.010580        0.372251   \n",
            "valor_total_bruto  0.394570   -0.010580           1.000000        0.995845   \n",
            "valor_comissao          NaN    0.372251           0.995845        1.000000   \n",
            "lucro_liquido      0.054649    0.553157           0.514751        0.886087   \n",
            "\n",
            "                   lucro_liquido  \n",
            "valor                   0.054649  \n",
            "quantidade              0.553157  \n",
            "valor_total_bruto       0.514751  \n",
            "valor_comissao          0.886087  \n",
            "lucro_liquido           1.000000  \n"
          ]
        }
      ],
      "source": [
        "# Calcular a matriz de correlação apenas para colunas numéricas\n",
        "correlacao = df_numerico.corr()\n",
        "\n",
        "# Exibir a matriz de correlação\n",
        "print(\"Matriz de Correlação:\")\n",
        "print(correlacao)"
      ]
    },
    {
      "cell_type": "code",
      "execution_count": null,
      "id": "f8c13574",
      "metadata": {
        "id": "f8c13574"
      },
      "outputs": [],
      "source": []
    }
  ],
  "metadata": {
    "kernelspec": {
      "display_name": "Python 3 (ipykernel)",
      "language": "python",
      "name": "python3"
    },
    "language_info": {
      "codemirror_mode": {
        "name": "ipython",
        "version": 3
      },
      "file_extension": ".py",
      "mimetype": "text/x-python",
      "name": "python",
      "nbconvert_exporter": "python",
      "pygments_lexer": "ipython3",
      "version": "3.9.13"
    },
    "colab": {
      "provenance": [],
      "include_colab_link": true
    }
  },
  "nbformat": 4,
  "nbformat_minor": 5
}